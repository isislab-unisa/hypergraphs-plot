{
 "cells": [
  {
   "cell_type": "code",
   "execution_count": 1,
   "metadata": {},
   "outputs": [
    {
     "data": {
      "text/plain": [
       "Main.HypergraphsPlot"
      ]
     },
     "execution_count": 1,
     "metadata": {},
     "output_type": "execute_result"
    }
   ],
   "source": [
    "include(\"julia-wrapper/HypergraphsPlot.jl\")"
   ]
  },
  {
   "cell_type": "code",
   "execution_count": 2,
   "metadata": {},
   "outputs": [
    {
     "data": {
      "text/plain": [
       "10×5 SimpleHypergraphs.Hypergraph{Int64,Nothing,Nothing}:\n",
       "  nothing   nothing   nothing   nothing  1       \n",
       "  nothing   nothing   nothing   nothing  1       \n",
       "  nothing   nothing   nothing   nothing   nothing\n",
       " 1         1          nothing   nothing  1       \n",
       " 1          nothing   nothing  1          nothing\n",
       " 1         1         1          nothing  1       \n",
       " 1         1         1          nothing   nothing\n",
       "  nothing   nothing   nothing  1          nothing\n",
       "  nothing   nothing  1          nothing  1       \n",
       " 1          nothing  1          nothing   nothing"
      ]
     },
     "execution_count": 2,
     "metadata": {},
     "output_type": "execute_result"
    }
   ],
   "source": [
    "h= HypergraphsPlot.generatehg(10,5)"
   ]
  },
  {
   "cell_type": "code",
   "execution_count": 3,
   "metadata": {},
   "outputs": [
    {
     "data": {
      "text/plain": [
       "1795"
      ]
     },
     "execution_count": 3,
     "metadata": {},
     "output_type": "execute_result"
    }
   ],
   "source": [
    "HypergraphsPlot.generateFileJSON(h, \"data.json\")"
   ]
  },
  {
   "cell_type": "code",
   "execution_count": 4,
   "metadata": {},
   "outputs": [
    {
     "data": {
      "text/html": [
       "<style>\n",
       "    .input-group-lg{\n",
       "    position:absolute;\n",
       "    top:0;\n",
       "    right:50px;\n",
       "    max-width:15%;\n",
       "    }\n",
       "\n",
       "    #confirm{\n",
       "        margin-top:5%;\n",
       "    }\n",
       "\n",
       "    #reset{\n",
       "        margin-top:5%;\n",
       "    }\n",
       "\n",
       "    #original {\n",
       "        margin-left: 0%;\n",
       "    }\n",
       "\n",
       "    .venntooltip{\n",
       "        position:absolute;\n",
       "        text-align: left;\n",
       "        background: #333;\n",
       "        color: #ddd;\n",
       "        padding: 2px;\n",
       "        border: 0px;\n",
       "        border-radius: 8px;\n",
       "    }\n",
       "\n",
       "</style>\n",
       "\n",
       "<div id=\"original\"></div>\n",
       "<script src=\"./dist/bundle.js\"></script>\n",
       "<script src=\"julia-wrapper/wrapper.js\"></script>\n",
       "<script>\n",
       "    vennPlot({json:'data.json'});\n",
       "</script>\n",
       "\n"
      ],
      "text/plain": [
       "HTML{String}(\"<style>\\n    .input-group-lg{\\n    position:absolute;\\n    top:0;\\n    right:50px;\\n    max-width:15%;\\n    }\\n\\n    #confirm{\\n        margin-top:5%;\\n    }\\n\\n    #reset{\\n        margin-top:5%;\\n    }\\n\\n    #original {\\n        margin-left: 0%;\\n    }\\n\\n    .venntooltip{\\n        position:absolute;\\n        text-align: left;\\n        background: #333;\\n        color: #ddd;\\n        padding: 2px;\\n        border: 0px;\\n        border-radius: 8px;\\n    }\\n\\n</style>\\n\\n<div id=\\\"original\\\"></div>\\n<script src=\\\"./dist/bundle.js\\\"></script>\\n<script src=\\\"julia-wrapper/wrapper.js\\\"></script>\\n<script>\\n    vennPlot({json:'data.json'});\\n</script>\\n\\n\")"
      ]
     },
     "execution_count": 4,
     "metadata": {},
     "output_type": "execute_result"
    }
   ],
   "source": [
    "HypergraphsPlot.plot(\"data.json\",type=\"venn\")"
   ]
  },
  {
   "cell_type": "code",
   "execution_count": 5,
   "metadata": {},
   "outputs": [
    {
     "data": {
      "text/html": [
       "<style>\n",
       ".link {\n",
       "    stroke-width:2px;\n",
       "  fill: none;\n",
       "  stroke: #bbb;\n",
       "}\n",
       ".node circle {\n",
       "  pointer-events: all;\n",
       "  stroke: #000;\n",
       "  stroke-width: 1px;\n",
       "}\n",
       "</style>\n",
       "\n",
       "<div class=\"hg-plot\"></div>\n",
       "<script src=\"./dist/bundle.js\"></script>\n",
       "<script src=\"julia-wrapper/wrapper.js\"></script>\n",
       "<script>\n",
       "    colorEdgePlot({json:'data.json'});\n",
       "</script>\n",
       "\n"
      ],
      "text/plain": [
       "HTML{String}(\"<style>\\n.link {\\n    stroke-width:2px;\\n  fill: none;\\n  stroke: #bbb;\\n}\\n.node circle {\\n  pointer-events: all;\\n  stroke: #000;\\n  stroke-width: 1px;\\n}\\n</style>\\n\\n<div class=\\\"hg-plot\\\"></div>\\n<script src=\\\"./dist/bundle.js\\\"></script>\\n<script src=\\\"julia-wrapper/wrapper.js\\\"></script>\\n<script>\\n    colorEdgePlot({json:'data.json'});\\n</script>\\n\\n\")"
      ]
     },
     "execution_count": 5,
     "metadata": {},
     "output_type": "execute_result"
    }
   ],
   "source": [
    "HypergraphsPlot.plot(\"data.json\")"
   ]
  },
  {
   "cell_type": "code",
   "execution_count": 6,
   "metadata": {},
   "outputs": [
    {
     "data": {
      "text/html": [
       "\n",
       "<style type=\"text/css\">\n",
       "    body {\n",
       "        font-family: 'Open Sans', sans-serif;\n",
       "        font-size: 11px;\n",
       "        font-weight: 300;\n",
       "        fill: #242424;\n",
       "        text-align: center;\n",
       "        text-shadow: 0 1px 0 #fff, 1px 0 0 #fff, -1px 0 0 #fff, 0 -1px 0 #fff;\n",
       "        cursor: default;\n",
       "    }\n",
       "\n",
       "    .legend {\n",
       "        font-family: 'Raleway', sans-serif;\n",
       "        fill: #333333;\n",
       "    }\n",
       "\n",
       "    .tooltip {\n",
       "        fill: #333333;\n",
       "    }\n",
       "</style>\n",
       "<div class=\"radarChart\"></div>\n",
       "<script src=\"./dist/bundle.js\"></script>\n",
       "<script type=\"text/javascript\">\n",
       "    radalPlot({json:'data.json'})\n",
       "</script>\n",
       "\n",
       "\n",
       "\n"
      ],
      "text/plain": [
       "HTML{String}(\"\\n<style type=\\\"text/css\\\">\\n    body {\\n        font-family: 'Open Sans', sans-serif;\\n        font-size: 11px;\\n        font-weight: 300;\\n        fill: #242424;\\n        text-align: center;\\n        text-shadow: 0 1px 0 #fff, 1px 0 0 #fff, -1px 0 0 #fff, 0 -1px 0 #fff;\\n        cursor: default;\\n    }\\n\\n    .legend {\\n        font-family: 'Raleway', sans-serif;\\n        fill: #333333;\\n    }\\n\\n    .tooltip {\\n        fill: #333333;\\n    }\\n</style>\\n<div class=\\\"radarChart\\\"></div>\\n<script src=\\\"./dist/bundle.js\\\"></script>\\n<script type=\\\"text/javascript\\\">\\n    radalPlot({json:'data.json'})\\n</script>\\n\\n\\n\\n\")"
      ]
     },
     "execution_count": 6,
     "metadata": {},
     "output_type": "execute_result"
    }
   ],
   "source": [
    "HypergraphsPlot.plot(\"data.json\",type=\"radal\")"
   ]
  },
  {
   "cell_type": "code",
   "execution_count": null,
   "metadata": {},
   "outputs": [],
   "source": []
  }
 ],
 "metadata": {
  "kernelspec": {
   "display_name": "Julia 1.1.1",
   "language": "julia",
   "name": "julia-1.1"
  },
  "language_info": {
   "file_extension": ".jl",
   "mimetype": "application/julia",
   "name": "julia",
   "version": "1.1.1"
  }
 },
 "nbformat": 4,
 "nbformat_minor": 2
}
