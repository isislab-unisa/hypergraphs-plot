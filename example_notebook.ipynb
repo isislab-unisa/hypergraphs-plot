{
 "cells": [
  {
   "cell_type": "code",
   "execution_count": null,
   "metadata": {},
   "outputs": [],
   "source": [
    "#include the HypergraphsPlot.jl in julia folder.\n",
    "include(\"julia/HypergraphsPlot.jl\")"
   ]
  },
  {
   "cell_type": "code",
   "execution_count": null,
   "metadata": {
    "scrolled": true
   },
   "outputs": [],
   "source": [
    "#generate a random hypergraph with 20 nodes and 5 hyperlinks with random values.\n",
    "h = HypergraphsPlot.generatehg(20,5)"
   ]
  },
  {
   "cell_type": "code",
   "execution_count": null,
   "metadata": {},
   "outputs": [],
   "source": [
    "#plot the hypergraph with color-edge visualization\n",
    "HypergraphsPlot.plot(h,type=\"color-edge\")"
   ]
  },
  {
   "cell_type": "code",
   "execution_count": null,
   "metadata": {},
   "outputs": [],
   "source": [
    "#plot the hypergraph with radal visualization\n",
    "HypergraphsPlot.plot(h,type=\"radal\")"
   ]
  },
  {
   "cell_type": "code",
   "execution_count": null,
   "metadata": {},
   "outputs": [],
   "source": [
    "#plot the hypergraph with venn visualization\n",
    "HypergraphsPlot.plot(h,type=\"venn\")"
   ]
  },
  {
   "cell_type": "code",
   "execution_count": null,
   "metadata": {},
   "outputs": [],
   "source": [
    "#you can also plot the hypergraph using a JSON file descriptor\n",
    "HypergraphsPlot.plot(\"newData.json\",type=\"color-edge\")"
   ]
  },
  {
   "cell_type": "code",
   "execution_count": null,
   "metadata": {},
   "outputs": [],
   "source": [
    "#or specifing some preferences\n",
    "HypergraphsPlot.plot(h,type=\"color-edge\",colorNodes=\"red\",colorEdges=\"blue\",sizeNodes=\"10\")"
   ]
  },
  {
   "cell_type": "code",
   "execution_count": null,
   "metadata": {},
   "outputs": [],
   "source": []
  }
 ],
 "metadata": {
  "kernelspec": {
   "display_name": "Julia 1.1.0",
   "language": "julia",
   "name": "julia-1.1"
  },
  "language_info": {
   "file_extension": ".jl",
   "mimetype": "application/julia",
   "name": "julia",
   "version": "1.1.0"
  }
 },
 "nbformat": 4,
 "nbformat_minor": 2
}
