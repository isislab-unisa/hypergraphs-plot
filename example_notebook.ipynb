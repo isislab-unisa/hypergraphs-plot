{
 "cells": [
  {
   "cell_type": "code",
   "execution_count": 40,
   "metadata": {},
   "outputs": [
    {
     "name": "stderr",
     "output_type": "stream",
     "text": [
      "WARNING: replacing module HypergraphsPlot.\n"
     ]
    },
    {
     "data": {
      "text/plain": [
       "Main.HypergraphsPlot"
      ]
     },
     "execution_count": 40,
     "metadata": {},
     "output_type": "execute_result"
    }
   ],
   "source": [
    "include(\"old/julia/HypergraphsPlot.jl\")"
   ]
  },
  {
   "cell_type": "code",
   "execution_count": 45,
   "metadata": {},
   "outputs": [
    {
     "data": {
      "text/plain": [
       "10×10 SimpleHypergraphs.Hypergraph{Int64,Nothing,Nothing}:\n",
       " 1          nothing  1         1         …  1         nothing  1       \n",
       "  nothing   nothing   nothing   nothing     1         nothing   nothing\n",
       " 1          nothing  1          nothing      nothing  nothing   nothing\n",
       "  nothing   nothing   nothing  1            1         nothing   nothing\n",
       "  nothing  1         1          nothing      nothing  nothing  1       \n",
       " 1          nothing   nothing  1         …   nothing  nothing   nothing\n",
       "  nothing   nothing   nothing   nothing      nothing  nothing   nothing\n",
       "  nothing  1          nothing   nothing     1         nothing  1       \n",
       "  nothing  1          nothing   nothing      nothing  nothing   nothing\n",
       "  nothing   nothing  1          nothing      nothing  nothing   nothing"
      ]
     },
     "execution_count": 45,
     "metadata": {},
     "output_type": "execute_result"
    }
   ],
   "source": [
    "h= HypergraphsPlot.generatehg(10,10)"
   ]
  },
  {
   "cell_type": "code",
   "execution_count": 46,
   "metadata": {},
   "outputs": [
    {
     "data": {
      "text/plain": [
       "2876"
      ]
     },
     "execution_count": 46,
     "metadata": {},
     "output_type": "execute_result"
    }
   ],
   "source": [
    "HypergraphsPlot.generateFileJSON(h,\"data.json\")"
   ]
  },
  {
   "cell_type": "code",
   "execution_count": 47,
   "metadata": {},
   "outputs": [
    {
     "data": {
      "text/html": [
       "    <style>\n",
       "    .input-group-lg{\n",
       "    position:absolute;\n",
       "    top:0;\n",
       "    right:50px;\n",
       "    max-width:15%;\n",
       "}\n",
       "#confirm{\n",
       "    margin-top:5%;\n",
       "}\n",
       "#reset{\n",
       "    margin-top:5%;\n",
       "}\n",
       "\n",
       "#original {\n",
       "    margin-left: 0%;\n",
       "}\n",
       "\n",
       ".venntooltip{\n",
       "    position:absolute;\n",
       "    text-align: left;\n",
       "    background: #333;\n",
       "    color: #ddd;\n",
       "    padding: 2px;\n",
       "    border: 0px;\n",
       "    border-radius: 8px;\n",
       "}\n",
       "\n",
       "#links_information{\n",
       "    min-width: 20%;\n",
       "    min-height: 20%;\n",
       "    position: absolute;\n",
       "    bottom:0;\n",
       "    right: 0;\n",
       "    display: none;\n",
       "}\n",
       "\n",
       "#links_information span{\n",
       "    font-size: 1.8em;\n",
       "    cursor: pointer;\n",
       "    margin-left: 0.5%;\n",
       "    padding:5px;\n",
       "}\n",
       "\n",
       "#close_information{\n",
       "    float: right; \n",
       "    color: brown;\n",
       "}\n",
       "\n",
       "table {\n",
       "    border-collapse: collapse;\n",
       "    border-radius: 8px;\n",
       "    background-color: #f7dc6f;\n",
       "}\n",
       "  \n",
       "th{\n",
       "    border-bottom: 1px solid black;\n",
       "    min-width: 5%;\n",
       "    text-align: center;\n",
       "}\n",
       "\n",
       "td{\n",
       "    text-align: center;\n",
       "}\n",
       "</style>\n",
       "\n",
       "    <div id=\"original\"></div>\n",
       "    <script src=\"./dist/bundle.js\"></script>\n",
       "    <script src=\"old/julia/wrapper.js\"></script>\n",
       "    <script>\n",
       "        vennPlot({json:'data.json'});\n",
       "</script>\n",
       "\n"
      ],
      "text/plain": [
       "HTML{String}(\"    <style>\\n    .input-group-lg{\\n    position:absolute;\\n    top:0;\\n    right:50px;\\n    max-width:15%;\\n}\\n#confirm{\\n    margin-top:5%;\\n}\\n#reset{\\n    margin-top:5%;\\n}\\n\\n#original {\\n    margin-left: 0%;\\n}\\n\\n.venntooltip{\\n    position:absolute;\\n    text-align: left;\\n    background: #333;\\n    color: #ddd;\\n    padding: 2px;\\n    border: 0px;\\n    border-radius: 8px;\\n}\\n\\n#links_information{\\n    min-width: 20%;\\n    min-height: 20%;\\n    position: absolute;\\n    bottom:0;\\n    right: 0;\\n    display: none;\\n}\\n\\n#links_information span{\\n    font-size: 1.8em;\\n    cursor: pointer;\\n    margin-left: 0.5%;\\n    padding:5px;\\n}\\n\\n#close_information{\\n    float: right; \\n    color: brown;\\n}\\n\\ntable {\\n    border-collapse: collapse;\\n    border-radius: 8px;\\n    background-color: #f7dc6f;\\n}\\n  \\nth{\\n    border-bottom: 1px solid black;\\n    min-width: 5%;\\n    text-align: center;\\n}\\n\\ntd{\\n    text-align: center;\\n}\\n</style>\\n\\n    <div id=\\\"original\\\"></div>\\n    <script src=\\\"./dist/bundle.js\\\"></script>\\n    <script src=\\\"old/julia/wrapper.js\\\"></script>\\n    <script>\\n        vennPlot({json:'data.json'});\\n</script>\\n\\n\")"
      ]
     },
     "execution_count": 47,
     "metadata": {},
     "output_type": "execute_result"
    }
   ],
   "source": [
    "HypergraphsPlot.plot(\"data.json\",type=\"venn\")"
   ]
  },
  {
   "cell_type": "code",
   "execution_count": 48,
   "metadata": {},
   "outputs": [
    {
     "data": {
      "text/html": [
       "<style>\n",
       ".link {\n",
       "    stroke-width:2px;\n",
       "  fill: none;\n",
       "  stroke: #bbb;\n",
       "}\n",
       ".node circle {\n",
       "  pointer-events: all;\n",
       "  stroke: #000;\n",
       "  stroke-width: 1px;\n",
       "}\n",
       "</style>\n",
       "\n",
       "<div class=\"hg-plot\"></div>\n",
       "<script src=\"./dist/bundle.js\"></script>\n",
       "<script src=\"old/julia/wrapper.js\"></script>\n",
       "<script>\n",
       "    colorEdgePlot({json:'data.json'});\n",
       "</script>\n",
       "\n"
      ],
      "text/plain": [
       "HTML{String}(\"<style>\\n.link {\\n    stroke-width:2px;\\n  fill: none;\\n  stroke: #bbb;\\n}\\n.node circle {\\n  pointer-events: all;\\n  stroke: #000;\\n  stroke-width: 1px;\\n}\\n</style>\\n\\n<div class=\\\"hg-plot\\\"></div>\\n<script src=\\\"./dist/bundle.js\\\"></script>\\n<script src=\\\"old/julia/wrapper.js\\\"></script>\\n<script>\\n    colorEdgePlot({json:'data.json'});\\n</script>\\n\\n\")"
      ]
     },
     "execution_count": 48,
     "metadata": {},
     "output_type": "execute_result"
    }
   ],
   "source": [
    "HypergraphsPlot.plot(\"data.json\")"
   ]
  },
  {
   "cell_type": "code",
   "execution_count": null,
   "metadata": {},
   "outputs": [],
   "source": []
  },
  {
   "cell_type": "code",
   "execution_count": null,
   "metadata": {},
   "outputs": [],
   "source": []
  }
 ],
 "metadata": {
  "kernelspec": {
   "display_name": "Julia 1.1.0",
   "language": "julia",
   "name": "julia-1.1"
  },
  "language_info": {
   "file_extension": ".jl",
   "mimetype": "application/julia",
   "name": "julia",
   "version": "1.1.0"
  }
 },
 "nbformat": 4,
 "nbformat_minor": 2
}
