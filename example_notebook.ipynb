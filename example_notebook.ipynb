{
 "cells": [
  {
   "cell_type": "code",
   "execution_count": 122,
   "metadata": {},
   "outputs": [
    {
     "name": "stderr",
     "output_type": "stream",
     "text": [
      "WARNING: replacing module HypergraphsPlot.\n"
     ]
    },
    {
     "data": {
      "text/plain": [
       "Main.HypergraphsPlot"
      ]
     },
     "execution_count": 122,
     "metadata": {},
     "output_type": "execute_result"
    }
   ],
   "source": [
    "include(\"julia/HypergraphsPlot.jl\")"
   ]
  },
  {
   "cell_type": "code",
   "execution_count": 123,
   "metadata": {},
   "outputs": [
    {
     "data": {
      "text/plain": [
       "10×5 SimpleHypergraphs.Hypergraph{Int64,Nothing,Nothing}:\n",
       " 1         1          nothing  1          nothing\n",
       " 1          nothing  1         1          nothing\n",
       "  nothing   nothing  1          nothing   nothing\n",
       " 1         1          nothing  1          nothing\n",
       "  nothing  1          nothing  1         1       \n",
       "  nothing   nothing   nothing   nothing   nothing\n",
       " 1         1          nothing   nothing   nothing\n",
       "  nothing   nothing   nothing  1         1       \n",
       "  nothing   nothing   nothing   nothing   nothing\n",
       "  nothing   nothing   nothing   nothing   nothing"
      ]
     },
     "execution_count": 123,
     "metadata": {},
     "output_type": "execute_result"
    }
   ],
   "source": [
    "h = HypergraphsPlot.generatehg(10,5)"
   ]
  },
  {
   "cell_type": "code",
   "execution_count": 124,
   "metadata": {},
   "outputs": [
    {
     "ename": "SystemError",
     "evalue": "SystemError: opening file \"src/drawing/data.json\": Invalid argument",
     "output_type": "error",
     "traceback": [
      "SystemError: opening file \"src/drawing/data.json\": Invalid argument",
      "",
      "Stacktrace:",
      " [1] #systemerror#43(::Nothing, ::Function, ::String, ::Bool) at .\\error.jl:134",
      " [2] systemerror at .\\error.jl:134 [inlined]",
      " [3] #open#309(::Nothing, ::Nothing, ::Nothing, ::Bool, ::Nothing, ::Function, ::String) at .\\iostream.jl:289",
      " [4] #open at .\\none:0 [inlined]",
      " [5] open(::String, ::String) at .\\iostream.jl:345",
      " [6] #open#310(::Base.Iterators.Pairs{Union{},Union{},Tuple{},NamedTuple{(),Tuple{}}}, ::Function, ::getfield(Main.HypergraphsPlot, Symbol(\"##4#6\")), ::String, ::Vararg{String,N} where N) at .\\iostream.jl:373",
      " [7] open at .\\iostream.jl:373 [inlined]",
      " [8] generateFileJSON(::SimpleHypergraphs.Hypergraph{Int64,Nothing,Nothing}, ::String) at C:\\Users\\vitto\\Manigoldoo\\hypergraphs-plot\\julia\\generateJSON.jl:86",
      " [9] generateFileJSON(::SimpleHypergraphs.Hypergraph{Int64,Nothing,Nothing}) at C:\\Users\\vitto\\Manigoldoo\\hypergraphs-plot\\julia\\generateJSON.jl:4",
      " [10] top-level scope at In[124]:1"
     ]
    }
   ],
   "source": [
    "HypergraphsPlot.generateFileJSON(h)"
   ]
  },
  {
   "cell_type": "code",
   "execution_count": 125,
   "metadata": {},
   "outputs": [
    {
     "data": {
      "text/html": [
       "<head>\n",
       "<link rel=\"stylesheet\" type=\"text/css\" href=\"css/color-edge-style.css\">\n",
       "</head>\n",
       "\n",
       "<div class=\"hg-plot\"></div>\n",
       "<script src=\"./bundle.v1.0.js\"></script>\n",
       "<script>\n",
       "hgplot.drawing.hgColorEdgePlot({ graph: {\"nodes\":[{\"links\":[\"1\",\"2\",\"4\"],\"id\":\"1\"},{\"links\":[\"1\",\"3\",\"4\"],\"id\":\"2\"},{\"links\":[\"3\"],\"id\":\"3\"},{\"links\":[\"1\",\"2\",\"4\"],\"id\":\"4\"},{\"links\":[\"2\",\"4\",\"5\"],\"id\":\"5\"},{\"links\":[],\"id\":\"6\"},{\"links\":[\"1\",\"2\"],\"id\":\"7\"},{\"links\":[\"4\",\"5\"],\"id\":\"8\"},{\"links\":[],\"id\":\"9\"},{\"links\":[],\"id\":\"10\"}],\"nodelinks\":[{\"node\":\"1\",\"link\":\"1\",\"value\":\"1\"},{\"node\":\"1\",\"link\":\"2\",\"value\":\"1\"},{\"node\":\"1\",\"link\":\"4\",\"value\":\"1\"},{\"node\":\"2\",\"link\":\"1\",\"value\":\"1\"},{\"node\":\"2\",\"link\":\"3\",\"value\":\"1\"},{\"node\":\"2\",\"link\":\"4\",\"value\":\"1\"},{\"node\":\"3\",\"link\":\"3\",\"value\":\"1\"},{\"node\":\"4\",\"link\":\"1\",\"value\":\"1\"},{\"node\":\"4\",\"link\":\"2\",\"value\":\"1\"},{\"node\":\"4\",\"link\":\"4\",\"value\":\"1\"},{\"node\":\"5\",\"link\":\"2\",\"value\":\"1\"},{\"node\":\"5\",\"link\":\"4\",\"value\":\"1\"},{\"node\":\"5\",\"link\":\"5\",\"value\":\"1\"},{\"node\":\"7\",\"link\":\"1\",\"value\":\"1\"},{\"node\":\"7\",\"link\":\"2\",\"value\":\"1\"},{\"node\":\"8\",\"link\":\"4\",\"value\":\"1\"},{\"node\":\"8\",\"link\":\"5\",\"value\":\"1\"}],\"links\":[{\"nodes\":[\"1\",\"2\",\"4\",\"7\"],\"id\":\"1\"},{\"nodes\":[\"1\",\"4\",\"5\",\"7\"],\"id\":\"2\"},{\"nodes\":[\"2\",\"3\"],\"id\":\"3\"},{\"nodes\":[\"1\",\"2\",\"4\",\"5\",\"8\"],\"id\":\"4\"},{\"nodes\":[\"5\",\"8\"],\"id\":\"5\"}]} });\n",
       "</script>\n",
       "\n"
      ],
      "text/plain": [
       "HTML{String}(\"<head>\\n<link rel=\\\"stylesheet\\\" type=\\\"text/css\\\" href=\\\"css/color-edge-style.css\\\">\\n</head>\\n\\n<div class=\\\"hg-plot\\\"></div>\\n<script src=\\\"./bundle.v1.0.js\\\"></script>\\n<script>\\nhgplot.drawing.hgColorEdgePlot({ graph: {\\\"nodes\\\":[{\\\"links\\\":[\\\"1\\\",\\\"2\\\",\\\"4\\\"],\\\"id\\\":\\\"1\\\"},{\\\"links\\\":[\\\"1\\\",\\\"3\\\",\\\"4\\\"],\\\"id\\\":\\\"2\\\"},{\\\"links\\\":[\\\"3\\\"],\\\"id\\\":\\\"3\\\"},{\\\"links\\\":[\\\"1\\\",\\\"2\\\",\\\"4\\\"],\\\"id\\\":\\\"4\\\"},{\\\"links\\\":[\\\"2\\\",\\\"4\\\",\\\"5\\\"],\\\"id\\\":\\\"5\\\"},{\\\"links\\\":[],\\\"id\\\":\\\"6\\\"},{\\\"links\\\":[\\\"1\\\",\\\"2\\\"],\\\"id\\\":\\\"7\\\"},{\\\"links\\\":[\\\"4\\\",\\\"5\\\"],\\\"id\\\":\\\"8\\\"},{\\\"links\\\":[],\\\"id\\\":\\\"9\\\"},{\\\"links\\\":[],\\\"id\\\":\\\"10\\\"}],\\\"nodelinks\\\":[{\\\"node\\\":\\\"1\\\",\\\"link\\\":\\\"1\\\",\\\"value\\\":\\\"1\\\"},{\\\"node\\\":\\\"1\\\",\\\"link\\\":\\\"2\\\",\\\"value\\\":\\\"1\\\"},{\\\"node\\\":\\\"1\\\",\\\"link\\\":\\\"4\\\",\\\"value\\\":\\\"1\\\"},{\\\"node\\\":\\\"2\\\",\\\"link\\\":\\\"1\\\",\\\"value\\\":\\\"1\\\"},{\\\"node\\\":\\\"2\\\",\\\"link\\\":\\\"3\\\",\\\"value\\\":\\\"1\\\"},{\\\"node\\\":\\\"2\\\",\\\"link\\\":\\\"4\\\",\\\"value\\\":\\\"1\\\"},{\\\"node\\\":\\\"3\\\",\\\"link\\\":\\\"3\\\",\\\"value\\\":\\\"1\\\"},{\\\"node\\\":\\\"4\\\",\\\"link\\\":\\\"1\\\",\\\"value\\\":\\\"1\\\"},{\\\"node\\\":\\\"4\\\",\\\"link\\\":\\\"2\\\",\\\"value\\\":\\\"1\\\"},{\\\"node\\\":\\\"4\\\",\\\"link\\\":\\\"4\\\",\\\"value\\\":\\\"1\\\"},{\\\"node\\\":\\\"5\\\",\\\"link\\\":\\\"2\\\",\\\"value\\\":\\\"1\\\"},{\\\"node\\\":\\\"5\\\",\\\"link\\\":\\\"4\\\",\\\"value\\\":\\\"1\\\"},{\\\"node\\\":\\\"5\\\",\\\"link\\\":\\\"5\\\",\\\"value\\\":\\\"1\\\"},{\\\"node\\\":\\\"7\\\",\\\"link\\\":\\\"1\\\",\\\"value\\\":\\\"1\\\"},{\\\"node\\\":\\\"7\\\",\\\"link\\\":\\\"2\\\",\\\"value\\\":\\\"1\\\"},{\\\"node\\\":\\\"8\\\",\\\"link\\\":\\\"4\\\",\\\"value\\\":\\\"1\\\"},{\\\"node\\\":\\\"8\\\",\\\"link\\\":\\\"5\\\",\\\"value\\\":\\\"1\\\"}],\\\"links\\\":[{\\\"nodes\\\":[\\\"1\\\",\\\"2\\\",\\\"4\\\",\\\"7\\\"],\\\"id\\\":\\\"1\\\"},{\\\"nodes\\\":[\\\"1\\\",\\\"4\\\",\\\"5\\\",\\\"7\\\"],\\\"id\\\":\\\"2\\\"},{\\\"nodes\\\":[\\\"2\\\",\\\"3\\\"],\\\"id\\\":\\\"3\\\"},{\\\"nodes\\\":[\\\"1\\\",\\\"2\\\",\\\"4\\\",\\\"5\\\",\\\"8\\\"],\\\"id\\\":\\\"4\\\"},{\\\"nodes\\\":[\\\"5\\\",\\\"8\\\"],\\\"id\\\":\\\"5\\\"}]} });\\n</script>\\n\\n\")"
      ]
     },
     "execution_count": 125,
     "metadata": {},
     "output_type": "execute_result"
    }
   ],
   "source": [
    "HypergraphsPlot.plot(h,type=\"color-edge\")"
   ]
  },
  {
   "cell_type": "code",
   "execution_count": 117,
   "metadata": {},
   "outputs": [
    {
     "data": {
      "text/html": [
       "text/html<head>\n",
       "<link rel=\"stylesheet\" type=\"text/css\" href=\"css/radal-style.css\">\n",
       "</head>\n",
       "<div class=\"radarChart\"></div>\n",
       "<script src=\"./bundle.v1.0.js\"></script>\n",
       "<script type=\"text/javascript\">\n",
       "radalPlot({json:'{\"nodes\":[{\"links\":[\"3\",\"4\"],\"id\":\"1\"},{\"links\":[\"3\"],\"id\":\"2\"},{\"links\":[\"1\",\"3\",\"5\"],\"id\":\"3\"},{\"links\":[\"1\",\"2\"],\"id\":\"4\"},{\"links\":[\"1\",\"2\",\"5\"],\"id\":\"5\"},{\"links\":[],\"id\":\"6\"},{\"links\":[\"1\",\"3\",\"4\"],\"id\":\"7\"},{\"links\":[\"2\",\"5\"],\"id\":\"8\"},{\"links\":[\"2\"],\"id\":\"9\"},{\"links\":[\"1\",\"2\"],\"id\":\"10\"}],\"nodelinks\":[{\"node\":\"1\",\"link\":\"3\",\"value\":\"1\"},{\"node\":\"1\",\"link\":\"4\",\"value\":\"1\"},{\"node\":\"2\",\"link\":\"3\",\"value\":\"1\"},{\"node\":\"3\",\"link\":\"1\",\"value\":\"1\"},{\"node\":\"3\",\"link\":\"3\",\"value\":\"1\"},{\"node\":\"3\",\"link\":\"5\",\"value\":\"1\"},{\"node\":\"4\",\"link\":\"1\",\"value\":\"1\"},{\"node\":\"4\",\"link\":\"2\",\"value\":\"1\"},{\"node\":\"5\",\"link\":\"1\",\"value\":\"1\"},{\"node\":\"5\",\"link\":\"2\",\"value\":\"1\"},{\"node\":\"5\",\"link\":\"5\",\"value\":\"1\"},{\"node\":\"7\",\"link\":\"1\",\"value\":\"1\"},{\"node\":\"7\",\"link\":\"3\",\"value\":\"1\"},{\"node\":\"7\",\"link\":\"4\",\"value\":\"1\"},{\"node\":\"8\",\"link\":\"2\",\"value\":\"1\"},{\"node\":\"8\",\"link\":\"5\",\"value\":\"1\"},{\"node\":\"9\",\"link\":\"2\",\"value\":\"1\"},{\"node\":\"10\",\"link\":\"1\",\"value\":\"1\"},{\"node\":\"10\",\"link\":\"2\",\"value\":\"1\"}],\"links\":[{\"nodes\":[\"3\",\"4\",\"5\",\"7\",\"10\"],\"id\":\"1\"},{\"nodes\":[\"4\",\"5\",\"8\",\"9\",\"10\"],\"id\":\"2\"},{\"nodes\":[\"1\",\"2\",\"3\",\"7\"],\"id\":\"3\"},{\"nodes\":[\"1\",\"7\"],\"id\":\"4\"},{\"nodes\":[\"3\",\"5\",\"8\"],\"id\":\"5\"}]}'})\n",
       "</script>\n"
      ],
      "text/plain": [
       "HTML{getfield(Base.Docs, Symbol(\"##9#10\")){Tuple{String,String}}}(getfield(Base.Docs, Symbol(\"##9#10\")){Tuple{String,String}}((\"text/html\", \"<head>\\n<link rel=\\\"stylesheet\\\" type=\\\"text/css\\\" href=\\\"css/radal-style.css\\\">\\n</head>\\n<div class=\\\"radarChart\\\"></div>\\n<script src=\\\"./bundle.v1.0.js\\\"></script>\\n<script type=\\\"text/javascript\\\">\\nradalPlot({json:'{\\\"nodes\\\":[{\\\"links\\\":[\\\"3\\\",\\\"4\\\"],\\\"id\\\":\\\"1\\\"},{\\\"links\\\":[\\\"3\\\"],\\\"id\\\":\\\"2\\\"},{\\\"links\\\":[\\\"1\\\",\\\"3\\\",\\\"5\\\"],\\\"id\\\":\\\"3\\\"},{\\\"links\\\":[\\\"1\\\",\\\"2\\\"],\\\"id\\\":\\\"4\\\"},{\\\"links\\\":[\\\"1\\\",\\\"2\\\",\\\"5\\\"],\\\"id\\\":\\\"5\\\"},{\\\"links\\\":[],\\\"id\\\":\\\"6\\\"},{\\\"links\\\":[\\\"1\\\",\\\"3\\\",\\\"4\\\"],\\\"id\\\":\\\"7\\\"},{\\\"links\\\":[\\\"2\\\",\\\"5\\\"],\\\"id\\\":\\\"8\\\"},{\\\"links\\\":[\\\"2\\\"],\\\"id\\\":\\\"9\\\"},{\\\"links\\\":[\\\"1\\\",\\\"2\\\"],\\\"id\\\":\\\"10\\\"}],\\\"nodelinks\\\":[{\\\"node\\\":\\\"1\\\",\\\"link\\\":\\\"3\\\",\\\"value\\\":\\\"1\\\"},{\\\"node\\\":\\\"1\\\",\\\"link\\\":\\\"4\\\",\\\"value\\\":\\\"1\\\"},{\\\"node\\\":\\\"2\\\",\\\"link\\\":\\\"3\\\",\\\"value\\\":\\\"1\\\"},{\\\"node\\\":\\\"3\\\",\\\"link\\\":\\\"1\\\",\\\"value\\\":\\\"1\\\"},{\\\"node\\\":\\\"3\\\",\\\"link\\\":\\\"3\\\",\\\"value\\\":\\\"1\\\"},{\\\"node\\\":\\\"3\\\",\\\"link\\\":\\\"5\\\",\\\"value\\\":\\\"1\\\"},{\\\"node\\\":\\\"4\\\",\\\"link\\\":\\\"1\\\",\\\"value\\\":\\\"1\\\"},{\\\"node\\\":\\\"4\\\",\\\"link\\\":\\\"2\\\",\\\"value\\\":\\\"1\\\"},{\\\"node\\\":\\\"5\\\",\\\"link\\\":\\\"1\\\",\\\"value\\\":\\\"1\\\"},{\\\"node\\\":\\\"5\\\",\\\"link\\\":\\\"2\\\",\\\"value\\\":\\\"1\\\"},{\\\"node\\\":\\\"5\\\",\\\"link\\\":\\\"5\\\",\\\"value\\\":\\\"1\\\"},{\\\"node\\\":\\\"7\\\",\\\"link\\\":\\\"1\\\",\\\"value\\\":\\\"1\\\"},{\\\"node\\\":\\\"7\\\",\\\"link\\\":\\\"3\\\",\\\"value\\\":\\\"1\\\"},{\\\"node\\\":\\\"7\\\",\\\"link\\\":\\\"4\\\",\\\"value\\\":\\\"1\\\"},{\\\"node\\\":\\\"8\\\",\\\"link\\\":\\\"2\\\",\\\"value\\\":\\\"1\\\"},{\\\"node\\\":\\\"8\\\",\\\"link\\\":\\\"5\\\",\\\"value\\\":\\\"1\\\"},{\\\"node\\\":\\\"9\\\",\\\"link\\\":\\\"2\\\",\\\"value\\\":\\\"1\\\"},{\\\"node\\\":\\\"10\\\",\\\"link\\\":\\\"1\\\",\\\"value\\\":\\\"1\\\"},{\\\"node\\\":\\\"10\\\",\\\"link\\\":\\\"2\\\",\\\"value\\\":\\\"1\\\"}],\\\"links\\\":[{\\\"nodes\\\":[\\\"3\\\",\\\"4\\\",\\\"5\\\",\\\"7\\\",\\\"10\\\"],\\\"id\\\":\\\"1\\\"},{\\\"nodes\\\":[\\\"4\\\",\\\"5\\\",\\\"8\\\",\\\"9\\\",\\\"10\\\"],\\\"id\\\":\\\"2\\\"},{\\\"nodes\\\":[\\\"1\\\",\\\"2\\\",\\\"3\\\",\\\"7\\\"],\\\"id\\\":\\\"3\\\"},{\\\"nodes\\\":[\\\"1\\\",\\\"7\\\"],\\\"id\\\":\\\"4\\\"},{\\\"nodes\\\":[\\\"3\\\",\\\"5\\\",\\\"8\\\"],\\\"id\\\":\\\"5\\\"}]}'})\\n</script>\\n\")))"
      ]
     },
     "execution_count": 117,
     "metadata": {},
     "output_type": "execute_result"
    }
   ],
   "source": [
    "HypergraphsPlot.plot(\"data.json\",type=\"radal\")"
   ]
  },
  {
   "cell_type": "code",
   "execution_count": null,
   "metadata": {},
   "outputs": [],
   "source": []
  },
  {
   "cell_type": "code",
   "execution_count": null,
   "metadata": {},
   "outputs": [],
   "source": []
  }
 ],
 "metadata": {
  "kernelspec": {
   "display_name": "Julia 1.1.1",
   "language": "julia",
   "name": "julia-1.1"
  },
  "language_info": {
   "file_extension": ".jl",
   "mimetype": "application/julia",
   "name": "julia",
   "version": "1.1.1"
  }
 },
 "nbformat": 4,
 "nbformat_minor": 2
}
