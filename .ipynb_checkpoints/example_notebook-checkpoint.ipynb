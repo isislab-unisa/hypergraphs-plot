{
 "cells": [
  {
   "cell_type": "code",
   "execution_count": 25,
   "metadata": {},
   "outputs": [
    {
     "name": "stderr",
     "output_type": "stream",
     "text": [
      "WARNING: replacing module HypergraphsPlot.\n"
     ]
    },
    {
     "data": {
      "text/plain": [
       "Main.HypergraphsPlot"
      ]
     },
     "execution_count": 25,
     "metadata": {},
     "output_type": "execute_result"
    }
   ],
   "source": [
    "include(\"julia/HypergraphsPlot.jl\")"
   ]
  },
  {
   "cell_type": "code",
   "execution_count": 26,
   "metadata": {
    "scrolled": true
   },
   "outputs": [
    {
     "data": {
      "text/plain": [
       "20×5 SimpleHypergraphs.Hypergraph{Int64,Nothing,Nothing}:\n",
       " 1         1          nothing  1          nothing\n",
       " 1          nothing   nothing   nothing   nothing\n",
       "  nothing   nothing  1          nothing   nothing\n",
       "  nothing   nothing   nothing   nothing   nothing\n",
       " 1          nothing  1         1         1       \n",
       " 1          nothing   nothing   nothing   nothing\n",
       "  nothing   nothing   nothing   nothing   nothing\n",
       "  nothing   nothing   nothing   nothing   nothing\n",
       "  nothing   nothing   nothing   nothing   nothing\n",
       " 1          nothing   nothing   nothing   nothing\n",
       " 1          nothing   nothing   nothing   nothing\n",
       "  nothing   nothing   nothing   nothing  1       \n",
       " 1          nothing   nothing   nothing   nothing\n",
       " 1          nothing   nothing   nothing   nothing\n",
       "  nothing   nothing   nothing   nothing   nothing\n",
       "  nothing   nothing   nothing   nothing   nothing\n",
       " 1          nothing   nothing   nothing  1       \n",
       "  nothing  1          nothing   nothing   nothing\n",
       "  nothing  1          nothing   nothing   nothing\n",
       "  nothing   nothing   nothing  1          nothing"
      ]
     },
     "execution_count": 26,
     "metadata": {},
     "output_type": "execute_result"
    }
   ],
   "source": [
    "h = HypergraphsPlot.generatehg(20,5)"
   ]
  },
  {
   "cell_type": "code",
   "execution_count": 28,
   "metadata": {},
   "outputs": [
    {
     "name": "stdout",
     "output_type": "stream",
     "text": [
      "Dict{Any,Any}(\"nodes\"=>Any[Dict{Any,Any}(\"links\"=>Any[\"4\", \"1\"],\"id\"=>\"3\"), Dict{Any,Any}(\"links\"=>Any[\"4\", \"3\"],\"id\"=>\"4\"), Dict{Any,Any}(\"links\"=>Any[\"1\"],\"id\"=>\"1\"), Dict{Any,Any}(\"links\"=>Any[\"4\", \"2\"],\"id\"=>\"5\"), Dict{Any,Any}(\"links\"=>Any[\"1\", \"3\"],\"id\"=>\"2\"), Dict{Any,Any}(\"links\"=>Any[],\"id\"=>\"6\"), Dict{Any,Any}(\"links\"=>Any[],\"id\"=>\"7\"), Dict{Any,Any}(\"links\"=>Any[],\"id\"=>\"8\")],\"nodelinks\"=>Any[Dict{Any,Any}(\"node\"=>\"4\",\"link\"=>\"4\",\"value\"=>\"4.5\"), Dict{Any,Any}(\"node\"=>\"5\",\"link\"=>\"4\",\"value\"=>\"5.5\"), Dict{Any,Any}(\"node\"=>\"3\",\"link\"=>\"4\",\"value\"=>\"2.5\"), Dict{Any,Any}(\"node\"=>\"1\",\"link\"=>\"1\",\"value\"=>\"1.5\"), Dict{Any,Any}(\"node\"=>\"2\",\"link\"=>\"1\",\"value\"=>\"1.5\"), Dict{Any,Any}(\"node\"=>\"3\",\"link\"=>\"1\",\"value\"=>\"1.5\"), Dict{Any,Any}(\"node\"=>\"5\",\"link\"=>\"2\",\"value\"=>\"6.5\"), Dict{Any,Any}(\"node\"=>\"4\",\"link\"=>\"3\",\"value\"=>\"4.5\"), Dict{Any,Any}(\"node\"=>\"2\",\"link\"=>\"3\",\"value\"=>\"3.5\")],\"links\"=>Any[Dict{Any,Any}(\"nodes\"=>Any[\"4\", \"5\", \"3\"],\"id\"=>\"4\"), Dict{Any,Any}(\"nodes\"=>Any[\"1\", \"2\", \"3\"],\"id\"=>\"1\"), Dict{Any,Any}(\"nodes\"=>Any[\"5\"],\"id\"=>\"2\"), Dict{Any,Any}(\"nodes\"=>Any[\"4\", \"2\"],\"id\"=>\"3\")])\n",
      "{\"nodes\":[{\"links\":[\"4\",\"1\"],\"id\":\"3\"},{\"links\":[\"4\",\"3\"],\"id\":\"4\"},{\"links\":[\"1\"],\"id\":\"1\"},{\"links\":[\"4\",\"2\"],\"id\":\"5\"},{\"links\":[\"1\",\"3\"],\"id\":\"2\"},{\"links\":[],\"id\":\"6\"},{\"links\":[],\"id\":\"7\"},{\"links\":[],\"id\":\"8\"}],\"nodelinks\":[{\"node\":\"4\",\"link\":\"4\",\"value\":\"4.5\"},{\"node\":\"5\",\"link\":\"4\",\"value\":\"5.5\"},{\"node\":\"3\",\"link\":\"4\",\"value\":\"2.5\"},{\"node\":\"1\",\"link\":\"1\",\"value\":\"1.5\"},{\"node\":\"2\",\"link\":\"1\",\"value\":\"1.5\"},{\"node\":\"3\",\"link\":\"1\",\"value\":\"1.5\"},{\"node\":\"5\",\"link\":\"2\",\"value\":\"6.5\"},{\"node\":\"4\",\"link\":\"3\",\"value\":\"4.5\"},{\"node\":\"2\",\"link\":\"3\",\"value\":\"3.5\"}],\"links\":[{\"nodes\":[\"4\",\"5\",\"3\"],\"id\":\"4\"},{\"nodes\":[\"1\",\"2\",\"3\"],\"id\":\"1\"},{\"nodes\":[\"5\"],\"id\":\"2\"},{\"nodes\":[\"4\",\"2\"],\"id\":\"3\"}]}\n"
     ]
    },
    {
     "data": {
      "text/html": [
       "<head>\n",
       "<link rel=\"stylesheet\" type=\"text/css\" href=\"css/color-edge-style.css\">\n",
       "</head>\n",
       "<div class=\"hg-plot\"></div>\n",
       "<script src=\"./bundle.v1.0.js\"></script>\n",
       "<script>\n",
       "hgplot.drawing.hgColorEdgePlot({graph:{\"nodes\":[{\"links\":[\"4\",\"1\"],\"id\":\"3\"},{\"links\":[\"4\",\"3\"],\"id\":\"4\"},{\"links\":[\"1\"],\"id\":\"1\"},{\"links\":[\"4\",\"2\"],\"id\":\"5\"},{\"links\":[\"1\",\"3\"],\"id\":\"2\"},{\"links\":[],\"id\":\"6\"},{\"links\":[],\"id\":\"7\"},{\"links\":[],\"id\":\"8\"}],\"nodelinks\":[{\"node\":\"4\",\"link\":\"4\",\"value\":\"4.5\"},{\"node\":\"5\",\"link\":\"4\",\"value\":\"5.5\"},{\"node\":\"3\",\"link\":\"4\",\"value\":\"2.5\"},{\"node\":\"1\",\"link\":\"1\",\"value\":\"1.5\"},{\"node\":\"2\",\"link\":\"1\",\"value\":\"1.5\"},{\"node\":\"3\",\"link\":\"1\",\"value\":\"1.5\"},{\"node\":\"5\",\"link\":\"2\",\"value\":\"6.5\"},{\"node\":\"4\",\"link\":\"3\",\"value\":\"4.5\"},{\"node\":\"2\",\"link\":\"3\",\"value\":\"3.5\"}],\"links\":[{\"nodes\":[\"4\",\"5\",\"3\"],\"id\":\"4\"},{\"nodes\":[\"1\",\"2\",\"3\"],\"id\":\"1\"},{\"nodes\":[\"5\"],\"id\":\"2\"},{\"nodes\":[\"4\",\"2\"],\"id\":\"3\"}]}},{Preferences:{\"colorEdges\":\"default\",\"colorNodes\":\"#D3D3D3\",\"sizeNodes\":10}});\n",
       "</script>\n"
      ],
      "text/plain": [
       "HTML{String}(\"<head>\\n<link rel=\\\"stylesheet\\\" type=\\\"text/css\\\" href=\\\"css/color-edge-style.css\\\">\\n</head>\\n<div class=\\\"hg-plot\\\"></div>\\n<script src=\\\"./bundle.v1.0.js\\\"></script>\\n<script>\\nhgplot.drawing.hgColorEdgePlot({graph:{\\\"nodes\\\":[{\\\"links\\\":[\\\"4\\\",\\\"1\\\"],\\\"id\\\":\\\"3\\\"},{\\\"links\\\":[\\\"4\\\",\\\"3\\\"],\\\"id\\\":\\\"4\\\"},{\\\"links\\\":[\\\"1\\\"],\\\"id\\\":\\\"1\\\"},{\\\"links\\\":[\\\"4\\\",\\\"2\\\"],\\\"id\\\":\\\"5\\\"},{\\\"links\\\":[\\\"1\\\",\\\"3\\\"],\\\"id\\\":\\\"2\\\"},{\\\"links\\\":[],\\\"id\\\":\\\"6\\\"},{\\\"links\\\":[],\\\"id\\\":\\\"7\\\"},{\\\"links\\\":[],\\\"id\\\":\\\"8\\\"}],\\\"nodelinks\\\":[{\\\"node\\\":\\\"4\\\",\\\"link\\\":\\\"4\\\",\\\"value\\\":\\\"4.5\\\"},{\\\"node\\\":\\\"5\\\",\\\"link\\\":\\\"4\\\",\\\"value\\\":\\\"5.5\\\"},{\\\"node\\\":\\\"3\\\",\\\"link\\\":\\\"4\\\",\\\"value\\\":\\\"2.5\\\"},{\\\"node\\\":\\\"1\\\",\\\"link\\\":\\\"1\\\",\\\"value\\\":\\\"1.5\\\"},{\\\"node\\\":\\\"2\\\",\\\"link\\\":\\\"1\\\",\\\"value\\\":\\\"1.5\\\"},{\\\"node\\\":\\\"3\\\",\\\"link\\\":\\\"1\\\",\\\"value\\\":\\\"1.5\\\"},{\\\"node\\\":\\\"5\\\",\\\"link\\\":\\\"2\\\",\\\"value\\\":\\\"6.5\\\"},{\\\"node\\\":\\\"4\\\",\\\"link\\\":\\\"3\\\",\\\"value\\\":\\\"4.5\\\"},{\\\"node\\\":\\\"2\\\",\\\"link\\\":\\\"3\\\",\\\"value\\\":\\\"3.5\\\"}],\\\"links\\\":[{\\\"nodes\\\":[\\\"4\\\",\\\"5\\\",\\\"3\\\"],\\\"id\\\":\\\"4\\\"},{\\\"nodes\\\":[\\\"1\\\",\\\"2\\\",\\\"3\\\"],\\\"id\\\":\\\"1\\\"},{\\\"nodes\\\":[\\\"5\\\"],\\\"id\\\":\\\"2\\\"},{\\\"nodes\\\":[\\\"4\\\",\\\"2\\\"],\\\"id\\\":\\\"3\\\"}]}},{Preferences:{\\\"colorEdges\\\":\\\"default\\\",\\\"colorNodes\\\":\\\"#D3D3D3\\\",\\\"sizeNodes\\\":10}});\\n</script>\\n\")"
      ]
     },
     "execution_count": 28,
     "metadata": {},
     "output_type": "execute_result"
    }
   ],
   "source": [
    "HypergraphsPlot.plot(\"dataNew.json\",type=\"color-edge\")"
   ]
  },
  {
   "cell_type": "code",
   "execution_count": 12,
   "metadata": {},
   "outputs": [
    {
     "data": {
      "text/html": [
       "<head>\n",
       "<link rel=\"stylesheet\" type=\"text/css\" href=\"css/color-edge-style.css\">\n",
       "</head>\n",
       "<div class=\"hg-plot\"></div>\n",
       "<script src=\"./bundle.v1.0.js\"></script>\n",
       "<script>\n",
       "hgplot.drawing.hgColorEdgePlot({graph:{\n",
       "    \"nodes\":[\n",
       "        {\"id\":\"1\" , \"links\":[\"4\"]},\n",
       "        {\"id\":\"2\" , \"links\":[]},\n",
       "        {\"id\":\"3\" , \"links\":[\"1\",\"3\",\"4\"]},\n",
       "        {\"id\":\"4\" , \"links\":[\"1\"]},\n",
       "        {\"id\":\"5\" , \"links\":[\"2\",\"3\",\"4\"]},\n",
       "        {\"id\":\"6\" , \"links\":[\"5\"]},\n",
       "        {\"id\":\"7\" , \"links\":[\"1\"]},\n",
       "        {\"id\":\"8\" , \"links\":[\"3\"]},\n",
       "        {\"id\":\"9\" , \"links\":[]},\n",
       "        {\"id\":\"10\" , \"links\":[\"1\"]},\n",
       "        {\"id\":\"11\" , \"links\":[\"2\",\"3\"]},\n",
       "        {\"id\":\"12\" , \"links\":[\"2\",\"3\",\"4\"]},\n",
       "        {\"id\":\"13\" , \"links\":[]},\n",
       "        {\"id\":\"14\" , \"links\":[]},\n",
       "        {\"id\":\"15\" , \"links\":[\"1\",\"2\"]},\n",
       "        {\"id\":\"16\" , \"links\":[\"1\"]},\n",
       "        {\"id\":\"17\" , \"links\":[\"5\"]},\n",
       "        {\"id\":\"18\" , \"links\":[\"2\"]},\n",
       "        {\"id\":\"19\" , \"links\":[\"1\",\"3\",\"4\"]},\n",
       "        {\"id\":\"20\" , \"links\":[\"1\",\"2\",\"3\"]}\n",
       "    ],\n",
       "    \"links\":[\n",
       "        {\"id\":\"1\", \"nodes\": [\"3\",\"4\",\"7\",\"10\",\"15\",\"16\",\"19\",\"20\"]},\n",
       "        {\"id\":\"2\", \"nodes\": [\"5\",\"11\",\"12\",\"15\",\"18\",\"20\"]},\n",
       "        {\"id\":\"3\", \"nodes\": [\"3\",\"5\",\"8\",\"11\",\"12\",\"19\",\"20\"]},\n",
       "        {\"id\":\"4\", \"nodes\": [\"1\",\"3\",\"5\",\"12\",\"19\"]},\n",
       "        {\"id\":\"5\", \"nodes\": [\"6\",\"17\"]}\n",
       "    ],\n",
       "    \"nodelinks\":[\n",
       "                    {\"node\":\"1\",\"link\":\"4\",\"value\":\"1\"},\n",
       "                    {\"node\":\"3\",\"link\":\"1\",\"value\":\"1\"},\n",
       "                    {\"node\":\"3\",\"link\":\"3\",\"value\":\"1\"},\n",
       "                    {\"node\":\"3\",\"link\":\"4\",\"value\":\"1\"},\n",
       "                    {\"node\":\"4\",\"link\":\"1\",\"value\":\"1\"},\n",
       "                    {\"node\":\"5\",\"link\":\"2\",\"value\":\"1\"},\n",
       "                    {\"node\":\"5\",\"link\":\"3\",\"value\":\"1\"},\n",
       "                    {\"node\":\"5\",\"link\":\"4\",\"value\":\"1\"},\n",
       "                    {\"node\":\"6\",\"link\":\"5\",\"value\":\"1\"},\n",
       "                    {\"node\":\"7\",\"link\":\"1\",\"value\":\"1\"},\n",
       "                    {\"node\":\"8\",\"link\":\"3\",\"value\":\"1\"},\n",
       "                    {\"node\":\"10\",\"link\":\"1\",\"value\":\"1\"},\n",
       "                    {\"node\":\"11\",\"link\":\"2\",\"value\":\"1\"},\n",
       "                    {\"node\":\"11\",\"link\":\"3\",\"value\":\"1\"},\n",
       "                    {\"node\":\"12\",\"link\":\"2\",\"value\":\"1\"},\n",
       "                    {\"node\":\"12\",\"link\":\"3\",\"value\":\"1\"},\n",
       "                    {\"node\":\"12\",\"link\":\"4\",\"value\":\"1\"},\n",
       "                    {\"node\":\"15\",\"link\":\"1\",\"value\":\"1\"},\n",
       "                    {\"node\":\"15\",\"link\":\"2\",\"value\":\"1\"},\n",
       "                    {\"node\":\"16\",\"link\":\"1\",\"value\":\"1\"},\n",
       "                    {\"node\":\"17\",\"link\":\"5\",\"value\":\"1\"},\n",
       "                    {\"node\":\"18\",\"link\":\"2\",\"value\":\"1\"},\n",
       "                    {\"node\":\"19\",\"link\":\"1\",\"value\":\"1\"},\n",
       "                    {\"node\":\"19\",\"link\":\"3\",\"value\":\"1\"},\n",
       "                    {\"node\":\"19\",\"link\":\"4\",\"value\":\"1\"},\n",
       "                    {\"node\":\"20\",\"link\":\"1\",\"value\":\"1\"},\n",
       "                    {\"node\":\"20\",\"link\":\"2\",\"value\":\"1\"},\n",
       "                    {\"node\":\"20\",\"link\":\"3\",\"value\":\"1\"}\n",
       "        ]\n",
       "    }},{Preferences:{\"colorEdges\":\"blue\",\"colorNodes\":\"red\",\"sizeNodes\":\"10\"}});\n",
       "</script>\n"
      ],
      "text/plain": [
       "HTML{String}(\"<head>\\n<link rel=\\\"stylesheet\\\" type=\\\"text/css\\\" href=\\\"css/color-edge-style.css\\\">\\n</head>\\n<div class=\\\"hg-plot\\\"></div>\\n<script src=\\\"./bundle.v1.0.js\\\"></script>\\n<script>\\nhgplot.drawing.hgColorEdgePlot({graph:{\\n    \\\"nodes\\\":[\\n        {\\\"id\\\":\\\"1\\\" , \\\"links\\\":[\\\"4\\\"]},\\n        {\\\"id\\\":\\\"2\\\" , \\\"links\\\":[]},\\n        {\\\"id\\\":\\\"3\\\" , \\\"links\\\":[\\\"1\\\",\\\"3\\\",\\\"4\\\"]},\\n        {\\\"id\\\":\\\"4\\\" , \\\"links\\\":[\\\"1\\\"]},\\n        {\\\"id\\\":\\\"5\\\" , \\\"links\\\":[\\\"2\\\",\\\"3\\\",\\\"4\\\"]},\\n        {\\\"id\\\":\\\"6\\\" , \\\"links\\\":[\\\"5\\\"]},\\n        {\\\"id\\\":\\\"7\\\" , \\\"links\\\":[\\\"1\\\"]},\\n        {\\\"id\\\":\\\"8\\\" , \\\"links\\\":[\\\"3\\\"]},\\n        {\\\"id\\\":\\\"9\\\" , \\\"links\\\":[]},\\n        {\\\"id\\\":\\\"10\\\" , \\\"links\\\":[\\\"1\\\"]},\\n        {\\\"id\\\":\\\"11\\\" , \\\"links\\\":[\\\"2\\\",\\\"3\\\"]},\\n        {\\\"id\\\":\\\"12\\\" , \\\"links\\\":[\\\"2\\\",\\\"3\\\",\\\"4\\\"]},\\n        {\\\"id\\\":\\\"13\\\" , \\\"links\\\":[]},\\n        {\\\"id\\\":\\\"14\\\" , \\\"links\\\":[]},\\n        {\\\"id\\\":\\\"15\\\" , \\\"links\\\":[\\\"1\\\",\\\"2\\\"]},\\n        {\\\"id\\\":\\\"16\\\" , \\\"links\\\":[\\\"1\\\"]},\\n        {\\\"id\\\":\\\"17\\\" , \\\"links\\\":[\\\"5\\\"]},\\n        {\\\"id\\\":\\\"18\\\" , \\\"links\\\":[\\\"2\\\"]},\\n        {\\\"id\\\":\\\"19\\\" , \\\"links\\\":[\\\"1\\\",\\\"3\\\",\\\"4\\\"]},\\n        {\\\"id\\\":\\\"20\\\" , \\\"links\\\":[\\\"1\\\",\\\"2\\\",\\\"3\\\"]}\\n    ],\\n    \\\"links\\\":[\\n        {\\\"id\\\":\\\"1\\\", \\\"nodes\\\": [\\\"3\\\",\\\"4\\\",\\\"7\\\",\\\"10\\\",\\\"15\\\",\\\"16\\\",\\\"19\\\",\\\"20\\\"]},\\n        {\\\"id\\\":\\\"2\\\", \\\"nodes\\\": [\\\"5\\\",\\\"11\\\",\\\"12\\\",\\\"15\\\",\\\"18\\\",\\\"20\\\"]},\\n        {\\\"id\\\":\\\"3\\\", \\\"nodes\\\": [\\\"3\\\",\\\"5\\\",\\\"8\\\",\\\"11\\\",\\\"12\\\",\\\"19\\\",\\\"20\\\"]},\\n        {\\\"id\\\":\\\"4\\\", \\\"nodes\\\": [\\\"1\\\",\\\"3\\\",\\\"5\\\",\\\"12\\\",\\\"19\\\"]},\\n        {\\\"id\\\":\\\"5\\\", \\\"nodes\\\": [\\\"6\\\",\\\"17\\\"]}\\n    ],\\n    \\\"nodelinks\\\":[\\n                    {\\\"node\\\":\\\"1\\\",\\\"link\\\":\\\"4\\\",\\\"value\\\":\\\"1\\\"},\\n                    {\\\"node\\\":\\\"3\\\",\\\"link\\\":\\\"1\\\",\\\"value\\\":\\\"1\\\"},\\n                    {\\\"node\\\":\\\"3\\\",\\\"link\\\":\\\"3\\\",\\\"value\\\":\\\"1\\\"},\\n                    {\\\"node\\\":\\\"3\\\",\\\"link\\\":\\\"4\\\",\\\"value\\\":\\\"1\\\"},\\n                    {\\\"node\\\":\\\"4\\\",\\\"link\\\":\\\"1\\\",\\\"value\\\":\\\"1\\\"},\\n                    {\\\"node\\\":\\\"5\\\",\\\"link\\\":\\\"2\\\",\\\"value\\\":\\\"1\\\"},\\n                    {\\\"node\\\":\\\"5\\\",\\\"link\\\":\\\"3\\\",\\\"value\\\":\\\"1\\\"},\\n                    {\\\"node\\\":\\\"5\\\",\\\"link\\\":\\\"4\\\",\\\"value\\\":\\\"1\\\"},\\n                    {\\\"node\\\":\\\"6\\\",\\\"link\\\":\\\"5\\\",\\\"value\\\":\\\"1\\\"},\\n                    {\\\"node\\\":\\\"7\\\",\\\"link\\\":\\\"1\\\",\\\"value\\\":\\\"1\\\"},\\n                    {\\\"node\\\":\\\"8\\\",\\\"link\\\":\\\"3\\\",\\\"value\\\":\\\"1\\\"},\\n                    {\\\"node\\\":\\\"10\\\",\\\"link\\\":\\\"1\\\",\\\"value\\\":\\\"1\\\"},\\n                    {\\\"node\\\":\\\"11\\\",\\\"link\\\":\\\"2\\\",\\\"value\\\":\\\"1\\\"},\\n                    {\\\"node\\\":\\\"11\\\",\\\"link\\\":\\\"3\\\",\\\"value\\\":\\\"1\\\"},\\n                    {\\\"node\\\":\\\"12\\\",\\\"link\\\":\\\"2\\\",\\\"value\\\":\\\"1\\\"},\\n                    {\\\"node\\\":\\\"12\\\",\\\"link\\\":\\\"3\\\",\\\"value\\\":\\\"1\\\"},\\n                    {\\\"node\\\":\\\"12\\\",\\\"link\\\":\\\"4\\\",\\\"value\\\":\\\"1\\\"},\\n                    {\\\"node\\\":\\\"15\\\",\\\"link\\\":\\\"1\\\",\\\"value\\\":\\\"1\\\"},\\n                    {\\\"node\\\":\\\"15\\\",\\\"link\\\":\\\"2\\\",\\\"value\\\":\\\"1\\\"},\\n                    {\\\"node\\\":\\\"16\\\",\\\"link\\\":\\\"1\\\",\\\"value\\\":\\\"1\\\"},\\n                    {\\\"node\\\":\\\"17\\\",\\\"link\\\":\\\"5\\\",\\\"value\\\":\\\"1\\\"},\\n                    {\\\"node\\\":\\\"18\\\",\\\"link\\\":\\\"2\\\",\\\"value\\\":\\\"1\\\"},\\n                    {\\\"node\\\":\\\"19\\\",\\\"link\\\":\\\"1\\\",\\\"value\\\":\\\"1\\\"},\\n                    {\\\"node\\\":\\\"19\\\",\\\"link\\\":\\\"3\\\",\\\"value\\\":\\\"1\\\"},\\n                    {\\\"node\\\":\\\"19\\\",\\\"link\\\":\\\"4\\\",\\\"value\\\":\\\"1\\\"},\\n                    {\\\"node\\\":\\\"20\\\",\\\"link\\\":\\\"1\\\",\\\"value\\\":\\\"1\\\"},\\n                    {\\\"node\\\":\\\"20\\\",\\\"link\\\":\\\"2\\\",\\\"value\\\":\\\"1\\\"},\\n                    {\\\"node\\\":\\\"20\\\",\\\"link\\\":\\\"3\\\",\\\"value\\\":\\\"1\\\"}\\n        ]\\n    }},{Preferences:{\\\"colorEdges\\\":\\\"blue\\\",\\\"colorNodes\\\":\\\"red\\\",\\\"sizeNodes\\\":\\\"10\\\"}});\\n</script>\\n\")"
      ]
     },
     "execution_count": 12,
     "metadata": {},
     "output_type": "execute_result"
    }
   ],
   "source": [
    "HypergraphsPlot.plot(h,type=\"color-edge\",colorNodes=\"red\",colorEdges=\"blue\",sizeNodes=\"10\")"
   ]
  },
  {
   "cell_type": "code",
   "execution_count": 18,
   "metadata": {},
   "outputs": [
    {
     "ename": "SystemError",
     "evalue": "SystemError: opening file \"data.json\": Invalid argument",
     "output_type": "error",
     "traceback": [
      "SystemError: opening file \"data.json\": Invalid argument",
      "",
      "Stacktrace:",
      " [1] #systemerror#43(::Nothing, ::Function, ::String, ::Bool) at .\\error.jl:134",
      " [2] systemerror at .\\error.jl:134 [inlined]",
      " [3] #open#309(::Nothing, ::Nothing, ::Nothing, ::Bool, ::Nothing, ::Function, ::String) at .\\iostream.jl:283",
      " [4] #open at .\\none:0 [inlined]",
      " [5] open(::String, ::String) at .\\iostream.jl:339",
      " [6] #open#310(::Base.Iterators.Pairs{Union{},Union{},Tuple{},NamedTuple{(),Tuple{}}}, ::Function, ::getfield(Main.HypergraphsPlot, Symbol(\"##6#8\")), ::String, ::Vararg{String,N} where N) at .\\iostream.jl:367",
      " [7] open at .\\iostream.jl:367 [inlined]",
      " [8] generateFileJSON(::SimpleHypergraphs.Hypergraph{Int64,Nothing,Nothing}, ::String) at C:\\Users\\Marti\\OneDrive\\Desktop\\hypergraphs-plot\\julia\\generateJSON.jl:86",
      " [9] generateFileJSON at C:\\Users\\Marti\\OneDrive\\Desktop\\hypergraphs-plot\\julia\\generateJSON.jl:4 [inlined]",
      " [10] #plot#2(::String, ::String, ::String, ::Int64, ::Function, ::SimpleHypergraphs.Hypergraph{Int64,Nothing,Nothing}) at C:\\Users\\Marti\\OneDrive\\Desktop\\hypergraphs-plot\\julia\\plot.jl:30",
      " [11] (::getfield(Main.HypergraphsPlot, Symbol(\"#kw##plot\")))(::NamedTuple{(:type,),Tuple{String}}, ::typeof(Main.HypergraphsPlot.plot), ::SimpleHypergraphs.Hypergraph{Int64,Nothing,Nothing}) at .\\none:0",
      " [12] top-level scope at In[18]:1"
     ]
    }
   ],
   "source": [
    "HypergraphsPlot.plot(h,type=\"color-edge\")"
   ]
  },
  {
   "cell_type": "code",
   "execution_count": 13,
   "metadata": {},
   "outputs": [
    {
     "data": {
      "text/html": [
       "<head>\n",
       "<link rel=\"stylesheet\" type=\"text/css\" href=\"css/radal-style.css\">\n",
       "</head>\n",
       "<div class=\"radarChart\"></div>\n",
       "<script src=\"./bundle.v1.0.js\"></script>\n",
       "<script>\n",
       "hgplot.drawing.hgRadalPlot({graph:{\n",
       "    \"nodes\":[\n",
       "        {\"id\":\"1\" , \"links\":[]},\n",
       "        {\"id\":\"2\" , \"links\":[\"2\"]},\n",
       "        {\"id\":\"3\" , \"links\":[]},\n",
       "        {\"id\":\"4\" , \"links\":[\"3\"]},\n",
       "        {\"id\":\"5\" , \"links\":[\"5\"]},\n",
       "        {\"id\":\"6\" , \"links\":[]},\n",
       "        {\"id\":\"7\" , \"links\":[\"2\",\"3\"]},\n",
       "        {\"id\":\"8\" , \"links\":[]},\n",
       "        {\"id\":\"9\" , \"links\":[]},\n",
       "        {\"id\":\"10\" , \"links\":[\"2\"]},\n",
       "        {\"id\":\"11\" , \"links\":[]},\n",
       "        {\"id\":\"12\" , \"links\":[\"3\"]},\n",
       "        {\"id\":\"13\" , \"links\":[]},\n",
       "        {\"id\":\"14\" , \"links\":[\"3\"]},\n",
       "        {\"id\":\"15\" , \"links\":[\"4\"]},\n",
       "        {\"id\":\"16\" , \"links\":[]},\n",
       "        {\"id\":\"17\" , \"links\":[]},\n",
       "        {\"id\":\"18\" , \"links\":[\"3\",\"4\"]},\n",
       "        {\"id\":\"19\" , \"links\":[]},\n",
       "        {\"id\":\"20\" , \"links\":[]}\n",
       "    ],\n",
       "    \"links\":[\n",
       "        {\"id\":\"1\", \"nodes\": []},\n",
       "        {\"id\":\"2\", \"nodes\": [\"2\",\"7\",\"10\"]},\n",
       "        {\"id\":\"3\", \"nodes\": [\"4\",\"7\",\"12\",\"14\",\"18\"]},\n",
       "        {\"id\":\"4\", \"nodes\": [\"15\",\"18\"]},\n",
       "        {\"id\":\"5\", \"nodes\": [\"5\"]}\n",
       "    ],\n",
       "    \"nodelinks\":[\n",
       "                    {\"node\":\"2\",\"link\":\"2\",\"value\":\"1\"},\n",
       "                    {\"node\":\"4\",\"link\":\"3\",\"value\":\"1\"},\n",
       "                    {\"node\":\"5\",\"link\":\"5\",\"value\":\"1\"},\n",
       "                    {\"node\":\"7\",\"link\":\"2\",\"value\":\"1\"},\n",
       "                    {\"node\":\"7\",\"link\":\"3\",\"value\":\"1\"},\n",
       "                    {\"node\":\"10\",\"link\":\"2\",\"value\":\"1\"},\n",
       "                    {\"node\":\"12\",\"link\":\"3\",\"value\":\"1\"},\n",
       "                    {\"node\":\"14\",\"link\":\"3\",\"value\":\"1\"},\n",
       "                    {\"node\":\"15\",\"link\":\"4\",\"value\":\"1\"},\n",
       "                    {\"node\":\"18\",\"link\":\"3\",\"value\":\"1\"},\n",
       "                    {\"node\":\"18\",\"link\":\"4\",\"value\":\"1\"}\n",
       "        ]\n",
       "    }})\n",
       "</script>\n"
      ],
      "text/plain": [
       "HTML{String}(\"<head>\\n<link rel=\\\"stylesheet\\\" type=\\\"text/css\\\" href=\\\"css/radal-style.css\\\">\\n</head>\\n<div class=\\\"radarChart\\\"></div>\\n<script src=\\\"./bundle.v1.0.js\\\"></script>\\n<script>\\nhgplot.drawing.hgRadalPlot({graph:{\\n    \\\"nodes\\\":[\\n        {\\\"id\\\":\\\"1\\\" , \\\"links\\\":[]},\\n        {\\\"id\\\":\\\"2\\\" , \\\"links\\\":[\\\"2\\\"]},\\n        {\\\"id\\\":\\\"3\\\" , \\\"links\\\":[]},\\n        {\\\"id\\\":\\\"4\\\" , \\\"links\\\":[\\\"3\\\"]},\\n        {\\\"id\\\":\\\"5\\\" , \\\"links\\\":[\\\"5\\\"]},\\n        {\\\"id\\\":\\\"6\\\" , \\\"links\\\":[]},\\n        {\\\"id\\\":\\\"7\\\" , \\\"links\\\":[\\\"2\\\",\\\"3\\\"]},\\n        {\\\"id\\\":\\\"8\\\" , \\\"links\\\":[]},\\n        {\\\"id\\\":\\\"9\\\" , \\\"links\\\":[]},\\n        {\\\"id\\\":\\\"10\\\" , \\\"links\\\":[\\\"2\\\"]},\\n        {\\\"id\\\":\\\"11\\\" , \\\"links\\\":[]},\\n        {\\\"id\\\":\\\"12\\\" , \\\"links\\\":[\\\"3\\\"]},\\n        {\\\"id\\\":\\\"13\\\" , \\\"links\\\":[]},\\n        {\\\"id\\\":\\\"14\\\" , \\\"links\\\":[\\\"3\\\"]},\\n        {\\\"id\\\":\\\"15\\\" , \\\"links\\\":[\\\"4\\\"]},\\n        {\\\"id\\\":\\\"16\\\" , \\\"links\\\":[]},\\n        {\\\"id\\\":\\\"17\\\" , \\\"links\\\":[]},\\n        {\\\"id\\\":\\\"18\\\" , \\\"links\\\":[\\\"3\\\",\\\"4\\\"]},\\n        {\\\"id\\\":\\\"19\\\" , \\\"links\\\":[]},\\n        {\\\"id\\\":\\\"20\\\" , \\\"links\\\":[]}\\n    ],\\n    \\\"links\\\":[\\n        {\\\"id\\\":\\\"1\\\", \\\"nodes\\\": []},\\n        {\\\"id\\\":\\\"2\\\", \\\"nodes\\\": [\\\"2\\\",\\\"7\\\",\\\"10\\\"]},\\n        {\\\"id\\\":\\\"3\\\", \\\"nodes\\\": [\\\"4\\\",\\\"7\\\",\\\"12\\\",\\\"14\\\",\\\"18\\\"]},\\n        {\\\"id\\\":\\\"4\\\", \\\"nodes\\\": [\\\"15\\\",\\\"18\\\"]},\\n        {\\\"id\\\":\\\"5\\\", \\\"nodes\\\": [\\\"5\\\"]}\\n    ],\\n    \\\"nodelinks\\\":[\\n                    {\\\"node\\\":\\\"2\\\",\\\"link\\\":\\\"2\\\",\\\"value\\\":\\\"1\\\"},\\n                    {\\\"node\\\":\\\"4\\\",\\\"link\\\":\\\"3\\\",\\\"value\\\":\\\"1\\\"},\\n                    {\\\"node\\\":\\\"5\\\",\\\"link\\\":\\\"5\\\",\\\"value\\\":\\\"1\\\"},\\n                    {\\\"node\\\":\\\"7\\\",\\\"link\\\":\\\"2\\\",\\\"value\\\":\\\"1\\\"},\\n                    {\\\"node\\\":\\\"7\\\",\\\"link\\\":\\\"3\\\",\\\"value\\\":\\\"1\\\"},\\n                    {\\\"node\\\":\\\"10\\\",\\\"link\\\":\\\"2\\\",\\\"value\\\":\\\"1\\\"},\\n                    {\\\"node\\\":\\\"12\\\",\\\"link\\\":\\\"3\\\",\\\"value\\\":\\\"1\\\"},\\n                    {\\\"node\\\":\\\"14\\\",\\\"link\\\":\\\"3\\\",\\\"value\\\":\\\"1\\\"},\\n                    {\\\"node\\\":\\\"15\\\",\\\"link\\\":\\\"4\\\",\\\"value\\\":\\\"1\\\"},\\n                    {\\\"node\\\":\\\"18\\\",\\\"link\\\":\\\"3\\\",\\\"value\\\":\\\"1\\\"},\\n                    {\\\"node\\\":\\\"18\\\",\\\"link\\\":\\\"4\\\",\\\"value\\\":\\\"1\\\"}\\n        ]\\n    }})\\n</script>\\n\")"
      ]
     },
     "execution_count": 13,
     "metadata": {},
     "output_type": "execute_result"
    }
   ],
   "source": [
    "HypergraphsPlot.plot(h,type=\"radal\")"
   ]
  },
  {
   "cell_type": "code",
   "execution_count": 10,
   "metadata": {},
   "outputs": [
    {
     "data": {
      "text/html": [
       "<head>\n",
       "<link rel=\"stylesheet\" type=\"text/css\" href=\"css/venn-style.css\">\n",
       "</head>\n",
       "<div id=\"venn\"></div>\n",
       "<script src=\"./bundle.v1.0.js\"></script>\n",
       "<script>\n",
       "hgplot.drawing.hgVennNodesPlot({graph:{\n",
       "    \"nodes\":[\n",
       "        {\"id\":\"1\" , \"links\":[\"1\",\"3\"]},\n",
       "        {\"id\":\"2\" , \"links\":[\"2\"]},\n",
       "        {\"id\":\"3\" , \"links\":[\"2\",\"3\"]},\n",
       "        {\"id\":\"4\" , \"links\":[]},\n",
       "        {\"id\":\"5\" , \"links\":[\"1\",\"5\"]},\n",
       "        {\"id\":\"6\" , \"links\":[\"2\"]},\n",
       "        {\"id\":\"7\" , \"links\":[]},\n",
       "        {\"id\":\"8\" , \"links\":[\"2\"]},\n",
       "        {\"id\":\"9\" , \"links\":[\"1\",\"2\",\"3\"]},\n",
       "        {\"id\":\"10\" , \"links\":[\"1\",\"3\",\"5\"]},\n",
       "        {\"id\":\"11\" , \"links\":[\"5\"]},\n",
       "        {\"id\":\"12\" , \"links\":[]},\n",
       "        {\"id\":\"13\" , \"links\":[\"2\",\"4\"]},\n",
       "        {\"id\":\"14\" , \"links\":[\"1\",\"5\"]},\n",
       "        {\"id\":\"15\" , \"links\":[\"2\"]},\n",
       "        {\"id\":\"16\" , \"links\":[\"3\"]},\n",
       "        {\"id\":\"17\" , \"links\":[]},\n",
       "        {\"id\":\"18\" , \"links\":[\"3\"]},\n",
       "        {\"id\":\"19\" , \"links\":[\"1\",\"3\",\"4\"]},\n",
       "        {\"id\":\"20\" , \"links\":[\"2\"]}\n",
       "    ],\n",
       "    \"links\":[\n",
       "        {\"id\":\"1\", \"nodes\": [\"1\",\"5\",\"9\",\"10\",\"14\",\"19\"]},\n",
       "        {\"id\":\"2\", \"nodes\": [\"2\",\"3\",\"6\",\"8\",\"9\",\"13\",\"15\",\"20\"]},\n",
       "        {\"id\":\"3\", \"nodes\": [\"1\",\"3\",\"9\",\"10\",\"16\",\"18\",\"19\"]},\n",
       "        {\"id\":\"4\", \"nodes\": [\"13\",\"19\"]},\n",
       "        {\"id\":\"5\", \"nodes\": [\"5\",\"10\",\"11\",\"14\"]}\n",
       "    ],\n",
       "    \"nodelinks\":[\n",
       "                    {\"node\":\"1\",\"link\":\"1\",\"value\":\"1\"},\n",
       "                    {\"node\":\"1\",\"link\":\"3\",\"value\":\"1\"},\n",
       "                    {\"node\":\"2\",\"link\":\"2\",\"value\":\"1\"},\n",
       "                    {\"node\":\"3\",\"link\":\"2\",\"value\":\"1\"},\n",
       "                    {\"node\":\"3\",\"link\":\"3\",\"value\":\"1\"},\n",
       "                    {\"node\":\"5\",\"link\":\"1\",\"value\":\"1\"},\n",
       "                    {\"node\":\"5\",\"link\":\"5\",\"value\":\"1\"},\n",
       "                    {\"node\":\"6\",\"link\":\"2\",\"value\":\"1\"},\n",
       "                    {\"node\":\"8\",\"link\":\"2\",\"value\":\"1\"},\n",
       "                    {\"node\":\"9\",\"link\":\"1\",\"value\":\"1\"},\n",
       "                    {\"node\":\"9\",\"link\":\"2\",\"value\":\"1\"},\n",
       "                    {\"node\":\"9\",\"link\":\"3\",\"value\":\"1\"},\n",
       "                    {\"node\":\"10\",\"link\":\"1\",\"value\":\"1\"},\n",
       "                    {\"node\":\"10\",\"link\":\"3\",\"value\":\"1\"},\n",
       "                    {\"node\":\"10\",\"link\":\"5\",\"value\":\"1\"},\n",
       "                    {\"node\":\"11\",\"link\":\"5\",\"value\":\"1\"},\n",
       "                    {\"node\":\"13\",\"link\":\"2\",\"value\":\"1\"},\n",
       "                    {\"node\":\"13\",\"link\":\"4\",\"value\":\"1\"},\n",
       "                    {\"node\":\"14\",\"link\":\"1\",\"value\":\"1\"},\n",
       "                    {\"node\":\"14\",\"link\":\"5\",\"value\":\"1\"},\n",
       "                    {\"node\":\"15\",\"link\":\"2\",\"value\":\"1\"},\n",
       "                    {\"node\":\"16\",\"link\":\"3\",\"value\":\"1\"},\n",
       "                    {\"node\":\"18\",\"link\":\"3\",\"value\":\"1\"},\n",
       "                    {\"node\":\"19\",\"link\":\"1\",\"value\":\"1\"},\n",
       "                    {\"node\":\"19\",\"link\":\"3\",\"value\":\"1\"},\n",
       "                    {\"node\":\"19\",\"link\":\"4\",\"value\":\"1\"},\n",
       "                    {\"node\":\"20\",\"link\":\"2\",\"value\":\"1\"}\n",
       "        ]\n",
       "    }});\n",
       "</script>\n"
      ],
      "text/plain": [
       "HTML{String}(\"<head>\\n<link rel=\\\"stylesheet\\\" type=\\\"text/css\\\" href=\\\"css/venn-style.css\\\">\\n</head>\\n<div id=\\\"venn\\\"></div>\\n<script src=\\\"./bundle.v1.0.js\\\"></script>\\n<script>\\nhgplot.drawing.hgVennNodesPlot({graph:{\\n    \\\"nodes\\\":[\\n        {\\\"id\\\":\\\"1\\\" , \\\"links\\\":[\\\"1\\\",\\\"3\\\"]},\\n        {\\\"id\\\":\\\"2\\\" , \\\"links\\\":[\\\"2\\\"]},\\n        {\\\"id\\\":\\\"3\\\" , \\\"links\\\":[\\\"2\\\",\\\"3\\\"]},\\n        {\\\"id\\\":\\\"4\\\" , \\\"links\\\":[]},\\n        {\\\"id\\\":\\\"5\\\" , \\\"links\\\":[\\\"1\\\",\\\"5\\\"]},\\n        {\\\"id\\\":\\\"6\\\" , \\\"links\\\":[\\\"2\\\"]},\\n        {\\\"id\\\":\\\"7\\\" , \\\"links\\\":[]},\\n        {\\\"id\\\":\\\"8\\\" , \\\"links\\\":[\\\"2\\\"]},\\n        {\\\"id\\\":\\\"9\\\" , \\\"links\\\":[\\\"1\\\",\\\"2\\\",\\\"3\\\"]},\\n        {\\\"id\\\":\\\"10\\\" , \\\"links\\\":[\\\"1\\\",\\\"3\\\",\\\"5\\\"]},\\n        {\\\"id\\\":\\\"11\\\" , \\\"links\\\":[\\\"5\\\"]},\\n        {\\\"id\\\":\\\"12\\\" , \\\"links\\\":[]},\\n        {\\\"id\\\":\\\"13\\\" , \\\"links\\\":[\\\"2\\\",\\\"4\\\"]},\\n        {\\\"id\\\":\\\"14\\\" , \\\"links\\\":[\\\"1\\\",\\\"5\\\"]},\\n        {\\\"id\\\":\\\"15\\\" , \\\"links\\\":[\\\"2\\\"]},\\n        {\\\"id\\\":\\\"16\\\" , \\\"links\\\":[\\\"3\\\"]},\\n        {\\\"id\\\":\\\"17\\\" , \\\"links\\\":[]},\\n        {\\\"id\\\":\\\"18\\\" , \\\"links\\\":[\\\"3\\\"]},\\n        {\\\"id\\\":\\\"19\\\" , \\\"links\\\":[\\\"1\\\",\\\"3\\\",\\\"4\\\"]},\\n        {\\\"id\\\":\\\"20\\\" , \\\"links\\\":[\\\"2\\\"]}\\n    ],\\n    \\\"links\\\":[\\n        {\\\"id\\\":\\\"1\\\", \\\"nodes\\\": [\\\"1\\\",\\\"5\\\",\\\"9\\\",\\\"10\\\",\\\"14\\\",\\\"19\\\"]},\\n        {\\\"id\\\":\\\"2\\\", \\\"nodes\\\": [\\\"2\\\",\\\"3\\\",\\\"6\\\",\\\"8\\\",\\\"9\\\",\\\"13\\\",\\\"15\\\",\\\"20\\\"]},\\n        {\\\"id\\\":\\\"3\\\", \\\"nodes\\\": [\\\"1\\\",\\\"3\\\",\\\"9\\\",\\\"10\\\",\\\"16\\\",\\\"18\\\",\\\"19\\\"]},\\n        {\\\"id\\\":\\\"4\\\", \\\"nodes\\\": [\\\"13\\\",\\\"19\\\"]},\\n        {\\\"id\\\":\\\"5\\\", \\\"nodes\\\": [\\\"5\\\",\\\"10\\\",\\\"11\\\",\\\"14\\\"]}\\n    ],\\n    \\\"nodelinks\\\":[\\n                    {\\\"node\\\":\\\"1\\\",\\\"link\\\":\\\"1\\\",\\\"value\\\":\\\"1\\\"},\\n                    {\\\"node\\\":\\\"1\\\",\\\"link\\\":\\\"3\\\",\\\"value\\\":\\\"1\\\"},\\n                    {\\\"node\\\":\\\"2\\\",\\\"link\\\":\\\"2\\\",\\\"value\\\":\\\"1\\\"},\\n                    {\\\"node\\\":\\\"3\\\",\\\"link\\\":\\\"2\\\",\\\"value\\\":\\\"1\\\"},\\n                    {\\\"node\\\":\\\"3\\\",\\\"link\\\":\\\"3\\\",\\\"value\\\":\\\"1\\\"},\\n                    {\\\"node\\\":\\\"5\\\",\\\"link\\\":\\\"1\\\",\\\"value\\\":\\\"1\\\"},\\n                    {\\\"node\\\":\\\"5\\\",\\\"link\\\":\\\"5\\\",\\\"value\\\":\\\"1\\\"},\\n                    {\\\"node\\\":\\\"6\\\",\\\"link\\\":\\\"2\\\",\\\"value\\\":\\\"1\\\"},\\n                    {\\\"node\\\":\\\"8\\\",\\\"link\\\":\\\"2\\\",\\\"value\\\":\\\"1\\\"},\\n                    {\\\"node\\\":\\\"9\\\",\\\"link\\\":\\\"1\\\",\\\"value\\\":\\\"1\\\"},\\n                    {\\\"node\\\":\\\"9\\\",\\\"link\\\":\\\"2\\\",\\\"value\\\":\\\"1\\\"},\\n                    {\\\"node\\\":\\\"9\\\",\\\"link\\\":\\\"3\\\",\\\"value\\\":\\\"1\\\"},\\n                    {\\\"node\\\":\\\"10\\\",\\\"link\\\":\\\"1\\\",\\\"value\\\":\\\"1\\\"},\\n                    {\\\"node\\\":\\\"10\\\",\\\"link\\\":\\\"3\\\",\\\"value\\\":\\\"1\\\"},\\n                    {\\\"node\\\":\\\"10\\\",\\\"link\\\":\\\"5\\\",\\\"value\\\":\\\"1\\\"},\\n                    {\\\"node\\\":\\\"11\\\",\\\"link\\\":\\\"5\\\",\\\"value\\\":\\\"1\\\"},\\n                    {\\\"node\\\":\\\"13\\\",\\\"link\\\":\\\"2\\\",\\\"value\\\":\\\"1\\\"},\\n                    {\\\"node\\\":\\\"13\\\",\\\"link\\\":\\\"4\\\",\\\"value\\\":\\\"1\\\"},\\n                    {\\\"node\\\":\\\"14\\\",\\\"link\\\":\\\"1\\\",\\\"value\\\":\\\"1\\\"},\\n                    {\\\"node\\\":\\\"14\\\",\\\"link\\\":\\\"5\\\",\\\"value\\\":\\\"1\\\"},\\n                    {\\\"node\\\":\\\"15\\\",\\\"link\\\":\\\"2\\\",\\\"value\\\":\\\"1\\\"},\\n                    {\\\"node\\\":\\\"16\\\",\\\"link\\\":\\\"3\\\",\\\"value\\\":\\\"1\\\"},\\n                    {\\\"node\\\":\\\"18\\\",\\\"link\\\":\\\"3\\\",\\\"value\\\":\\\"1\\\"},\\n                    {\\\"node\\\":\\\"19\\\",\\\"link\\\":\\\"1\\\",\\\"value\\\":\\\"1\\\"},\\n                    {\\\"node\\\":\\\"19\\\",\\\"link\\\":\\\"3\\\",\\\"value\\\":\\\"1\\\"},\\n                    {\\\"node\\\":\\\"19\\\",\\\"link\\\":\\\"4\\\",\\\"value\\\":\\\"1\\\"},\\n                    {\\\"node\\\":\\\"20\\\",\\\"link\\\":\\\"2\\\",\\\"value\\\":\\\"1\\\"}\\n        ]\\n    }});\\n</script>\\n\")"
      ]
     },
     "execution_count": 10,
     "metadata": {},
     "output_type": "execute_result"
    }
   ],
   "source": [
    "HypergraphsPlot.plot(h,type=\"venn\")"
   ]
  },
  {
   "cell_type": "code",
   "execution_count": null,
   "metadata": {},
   "outputs": [],
   "source": []
  },
  {
   "cell_type": "code",
   "execution_count": null,
   "metadata": {},
   "outputs": [],
   "source": []
  }
 ],
 "metadata": {
  "kernelspec": {
   "display_name": "Julia 1.1.0",
   "language": "julia",
   "name": "julia-1.1"
  },
  "language_info": {
   "file_extension": ".jl",
   "mimetype": "application/julia",
   "name": "julia",
   "version": "1.1.0"
  }
 },
 "nbformat": 4,
 "nbformat_minor": 2
}
