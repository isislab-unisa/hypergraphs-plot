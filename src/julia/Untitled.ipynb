{
 "cells": [
  {
   "cell_type": "code",
   "execution_count": 2,
   "metadata": {},
   "outputs": [],
   "source": [
    "using PyCall"
   ]
  },
  {
   "cell_type": "code",
   "execution_count": 3,
   "metadata": {},
   "outputs": [
    {
     "name": "stderr",
     "output_type": "stream",
     "text": [
      "┌ Warning: `getindex(o::PyObject, s::AbstractString)` is deprecated in favor of dot overloading (`getproperty`) so elements should now be accessed as e.g. `o.\"s\"` instead of `o[\"s\"]`.\n",
      "│   caller = top-level scope at In[3]:1\n",
      "└ @ Core In[3]:1\n"
     ]
    }
   ],
   "source": [
    "push!(pyimport(\"sys\")[\"path\"], pwd());"
   ]
  },
  {
   "cell_type": "code",
   "execution_count": 4,
   "metadata": {},
   "outputs": [
    {
     "name": "stderr",
     "output_type": "stream",
     "text": [
      "┌ Warning: `getindex(o::PyObject, s::Symbol)` is deprecated in favor of dot overloading (`getproperty`) so elements should now be accessed as e.g. `o.s` instead of `o[:s]`.\n",
      "│   caller = top-level scope at In[4]:1\n",
      "└ @ Core In[4]:1\n"
     ]
    },
    {
     "ename": "PyCall.PyError",
     "evalue": "PyError ($(Expr(:escape, :(ccall(#= /home/masgio/.julia/packages/PyCall/ttONZ/src/pyfncall.jl:44 =# @pysym(:PyObject_Call), PyPtr, (PyPtr, PyPtr, PyPtr), o, pyargsptr, kw))))) <type 'exceptions.IOError'>\nIOError(2, 'File o directory non esistente')\n  File \"/home/masgio/github/hypergraphs-plot/src/julia/wrapper.py\", line 4, in plotColorEdge\n    return HTML(filename='hg-color-edge.html')\n  File \"/home/masgio/.local/lib/python2.7/site-packages/IPython/core/display.py\", line 618, in __init__\n    self.reload()\n  File \"/home/masgio/.local/lib/python2.7/site-packages/IPython/core/display.py\", line 636, in reload\n    with open(self.filename, self._read_flags) as f:\n",
     "output_type": "error",
     "traceback": [
      "PyError ($(Expr(:escape, :(ccall(#= /home/masgio/.julia/packages/PyCall/ttONZ/src/pyfncall.jl:44 =# @pysym(:PyObject_Call), PyPtr, (PyPtr, PyPtr, PyPtr), o, pyargsptr, kw))))) <type 'exceptions.IOError'>\nIOError(2, 'File o directory non esistente')\n  File \"/home/masgio/github/hypergraphs-plot/src/julia/wrapper.py\", line 4, in plotColorEdge\n    return HTML(filename='hg-color-edge.html')\n  File \"/home/masgio/.local/lib/python2.7/site-packages/IPython/core/display.py\", line 618, in __init__\n    self.reload()\n  File \"/home/masgio/.local/lib/python2.7/site-packages/IPython/core/display.py\", line 636, in reload\n    with open(self.filename, self._read_flags) as f:\n",
      "",
      "Stacktrace:",
      " [1] pyerr_check at /home/masgio/.julia/packages/PyCall/ttONZ/src/exception.jl:60 [inlined]",
      " [2] pyerr_check at /home/masgio/.julia/packages/PyCall/ttONZ/src/exception.jl:64 [inlined]",
      " [3] macro expansion at /home/masgio/.julia/packages/PyCall/ttONZ/src/exception.jl:84 [inlined]",
      " [4] __pycall!(::PyObject, ::Ptr{PyCall.PyObject_struct}, ::PyObject, ::Ptr{Nothing}) at /home/masgio/.julia/packages/PyCall/ttONZ/src/pyfncall.jl:44",
      " [5] _pycall!(::PyObject, ::PyObject, ::Tuple{}, ::Int64, ::Ptr{Nothing}) at /home/masgio/.julia/packages/PyCall/ttONZ/src/pyfncall.jl:29",
      " [6] #call#111 at /home/masgio/.julia/packages/PyCall/ttONZ/src/pyfncall.jl:11 [inlined]",
      " [7] (::PyObject)() at /home/masgio/.julia/packages/PyCall/ttONZ/src/pyfncall.jl:89",
      " [8] top-level scope at In[4]:1"
     ]
    }
   ],
   "source": [
    "pyimport(\"wrapper\")[:plotColorEdge]()"
   ]
  },
  {
   "cell_type": "code",
   "execution_count": 6,
   "metadata": {},
   "outputs": [
    {
     "name": "stdout",
     "output_type": "stream",
     "text": [
      "/home/masgio/github/hypergraphs-plot/src/julia\n"
     ]
    },
    {
     "name": "stderr",
     "output_type": "stream",
     "text": [
      "┌ Warning: `getindex(o::PyObject, s::AbstractString)` is deprecated in favor of dot overloading (`getproperty`) so elements should now be accessed as e.g. `o.\"s\"` instead of `o[\"s\"]`.\n",
      "│   caller = top-level scope at In[6]:3\n",
      "└ @ Core In[6]:3\n"
     ]
    },
    {
     "data": {
      "text/plain": [
       "PyObject <module 'wrapper' from '/home/masgio/github/hypergraphs-plot/src/julia/wrapper.py'>"
      ]
     },
     "execution_count": 6,
     "metadata": {},
     "output_type": "execute_result"
    }
   ],
   "source": [
    "using PyCall\n",
    "println(pwd())\n",
    "push!(PyVector(pyimport(\"sys\")[\"path\"]), \"\")\n",
    "a=pyimport(\"wrapper\")"
   ]
  },
  {
   "cell_type": "code",
   "execution_count": 7,
   "metadata": {},
   "outputs": [
    {
     "name": "stderr",
     "output_type": "stream",
     "text": [
      "┌ Warning: `getindex(o::PyObject, s::Symbol)` is deprecated in favor of dot overloading (`getproperty`) so elements should now be accessed as e.g. `o.s` instead of `o[:s]`.\n",
      "│   caller = top-level scope at In[7]:1\n",
      "└ @ Core In[7]:1\n"
     ]
    },
    {
     "data": {
      "text/plain": [
       "PyObject <function plotColorEdge at 0x7f66075a4e60>"
      ]
     },
     "execution_count": 7,
     "metadata": {},
     "output_type": "execute_result"
    }
   ],
   "source": [
    "f= a[:plotColorEdge]"
   ]
  },
  {
   "cell_type": "code",
   "execution_count": 11,
   "metadata": {},
   "outputs": [
    {
     "ename": "PyCall.PyError",
     "evalue": "PyError ($(Expr(:escape, :(ccall(#= /home/masgio/.julia/packages/PyCall/ttONZ/src/pyfncall.jl:44 =# @pysym(:PyObject_Call), PyPtr, (PyPtr, PyPtr, PyPtr), o, pyargsptr, kw))))) <type 'exceptions.IOError'>\nIOError(2, 'File o directory non esistente')\n  File \"/home/masgio/github/hypergraphs-plot/src/julia/wrapper.py\", line 4, in plotColorEdge\n    return HTML(filename='hg-color-edge.html')\n  File \"/home/masgio/.local/lib/python2.7/site-packages/IPython/core/display.py\", line 618, in __init__\n    self.reload()\n  File \"/home/masgio/.local/lib/python2.7/site-packages/IPython/core/display.py\", line 636, in reload\n    with open(self.filename, self._read_flags) as f:\n",
     "output_type": "error",
     "traceback": [
      "PyError ($(Expr(:escape, :(ccall(#= /home/masgio/.julia/packages/PyCall/ttONZ/src/pyfncall.jl:44 =# @pysym(:PyObject_Call), PyPtr, (PyPtr, PyPtr, PyPtr), o, pyargsptr, kw))))) <type 'exceptions.IOError'>\nIOError(2, 'File o directory non esistente')\n  File \"/home/masgio/github/hypergraphs-plot/src/julia/wrapper.py\", line 4, in plotColorEdge\n    return HTML(filename='hg-color-edge.html')\n  File \"/home/masgio/.local/lib/python2.7/site-packages/IPython/core/display.py\", line 618, in __init__\n    self.reload()\n  File \"/home/masgio/.local/lib/python2.7/site-packages/IPython/core/display.py\", line 636, in reload\n    with open(self.filename, self._read_flags) as f:\n",
      "",
      "Stacktrace:",
      " [1] pyerr_check at /home/masgio/.julia/packages/PyCall/ttONZ/src/exception.jl:60 [inlined]",
      " [2] pyerr_check at /home/masgio/.julia/packages/PyCall/ttONZ/src/exception.jl:64 [inlined]",
      " [3] macro expansion at /home/masgio/.julia/packages/PyCall/ttONZ/src/exception.jl:84 [inlined]",
      " [4] __pycall!(::PyObject, ::Ptr{PyCall.PyObject_struct}, ::PyObject, ::Ptr{Nothing}) at /home/masgio/.julia/packages/PyCall/ttONZ/src/pyfncall.jl:44",
      " [5] _pycall!(::PyObject, ::PyObject, ::Tuple{}, ::Int64, ::Ptr{Nothing}) at /home/masgio/.julia/packages/PyCall/ttONZ/src/pyfncall.jl:29",
      " [6] #call#111 at /home/masgio/.julia/packages/PyCall/ttONZ/src/pyfncall.jl:11 [inlined]",
      " [7] (::PyObject)() at /home/masgio/.julia/packages/PyCall/ttONZ/src/pyfncall.jl:89",
      " [8] top-level scope at In[11]:1"
     ]
    }
   ],
   "source": [
    "f()"
   ]
  },
  {
   "cell_type": "code",
   "execution_count": null,
   "metadata": {},
   "outputs": [],
   "source": []
  }
 ],
 "metadata": {
  "kernelspec": {
   "display_name": "Julia 1.1.1",
   "language": "julia",
   "name": "julia-1.1"
  },
  "language_info": {
   "file_extension": ".jl",
   "mimetype": "application/julia",
   "name": "julia",
   "version": "1.1.1"
  }
 },
 "nbformat": 4,
 "nbformat_minor": 2
}
