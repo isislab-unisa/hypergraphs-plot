{
 "cells": [
  {
   "cell_type": "code",
   "execution_count": 27,
   "metadata": {},
   "outputs": [
    {
     "name": "stderr",
     "output_type": "stream",
     "text": [
      "WARNING: replacing module HypergraphsPlot.\n"
     ]
    },
    {
     "data": {
      "text/plain": [
       "Main.HypergraphsPlot"
      ]
     },
     "execution_count": 27,
     "metadata": {},
     "output_type": "execute_result"
    }
   ],
   "source": [
    "hgplt= include(\"../julia/HypergraphsPlot.jl\")"
   ]
  },
  {
   "cell_type": "code",
   "execution_count": 28,
   "metadata": {},
   "outputs": [
    {
     "data": {
      "text/plain": [
       "10×5 SimpleHypergraphs.Hypergraph{Int64,Nothing,Nothing}:\n",
       " 1          nothing   nothing   nothing   nothing\n",
       " 1          nothing  1         1         1       \n",
       "  nothing   nothing  1          nothing  1       \n",
       " 1         1          nothing   nothing  1       \n",
       "  nothing  1          nothing   nothing   nothing\n",
       "  nothing   nothing   nothing   nothing  1       \n",
       "  nothing   nothing   nothing   nothing   nothing\n",
       "  nothing   nothing  1          nothing   nothing\n",
       "  nothing  1          nothing   nothing  1       \n",
       "  nothing   nothing   nothing  1         1       "
      ]
     },
     "execution_count": 28,
     "metadata": {},
     "output_type": "execute_result"
    }
   ],
   "source": [
    "#generate a random hg with 10 nodes and 5 hyperedges\n",
    "h= hgplt.generatehg(10,5)"
   ]
  },
  {
   "cell_type": "code",
   "execution_count": 29,
   "metadata": {},
   "outputs": [
    {
     "data": {
      "text/plain": [
       "1373"
      ]
     },
     "execution_count": 29,
     "metadata": {},
     "output_type": "execute_result"
    }
   ],
   "source": [
    "#generate JSON\n",
    "hgplt.hgplot(h)"
   ]
  },
  {
   "cell_type": "code",
   "execution_count": null,
   "metadata": {},
   "outputs": [],
   "source": [
    "#style\n",
    "HTML(\"\"\"\n",
    "<style>\n",
    "\n",
    ".link {\n",
    "\tstroke-width:2px;\n",
    "  fill: none;\n",
    "  stroke: #bbb;\n",
    "}\n",
    ".node circle {\n",
    "  pointer-events: all;\n",
    "  stroke: #000;\n",
    "  stroke-width: 1px;\n",
    "}\n",
    "\n",
    "</style>\n",
    "\"\"\")"
   ]
  },
  {
   "cell_type": "code",
   "execution_count": 30,
   "metadata": {},
   "outputs": [
    {
     "data": {
      "text/html": [
       "<div id=\"hg-plot\"></div>\n",
       "<script src=\"../scripts/color-edge/hg-color-edge-plot.js\"></script>\n",
       "<script>\n",
       "hgColorEdgePlot()\n",
       "</script>\n",
       "    \n"
      ],
      "text/plain": [
       "HTML{String}(\"<div id=\\\"hg-plot\\\"></div>\\n<script src=\\\"../scripts/color-edge/hg-color-edge-plot.js\\\"></script>\\n<script>\\nhgColorEdgePlot()\\n</script>\\n    \\n\")"
      ]
     },
     "execution_count": 30,
     "metadata": {},
     "output_type": "execute_result"
    }
   ],
   "source": [
    "#funcion call\n",
    "HTML(\"\"\"\n",
    "<div id=\"hg-plot\"></div>\n",
    "<script src=\"../scripts/color-edge/hg-color-edge-plot.js\"></script>\n",
    "<script>\n",
    "hgColorEdgePlot()\n",
    "</script>\n",
    "    \n",
    "\"\"\")\n"
   ]
  },
  {
   "cell_type": "code",
   "execution_count": null,
   "metadata": {},
   "outputs": [],
   "source": []
  }
 ],
 "metadata": {
  "kernelspec": {
   "display_name": "Julia 1.1.0",
   "language": "julia",
   "name": "julia-1.1"
  },
  "language_info": {
   "file_extension": ".jl",
   "mimetype": "application/julia",
   "name": "julia",
   "version": "1.1.0"
  }
 },
 "nbformat": 4,
 "nbformat_minor": 2
}
