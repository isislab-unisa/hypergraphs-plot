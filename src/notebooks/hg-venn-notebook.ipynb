{
 "cells": [
  {
   "cell_type": "code",
   "execution_count": 13,
   "metadata": {},
   "outputs": [
    {
     "name": "stderr",
     "output_type": "stream",
     "text": [
      "WARNING: replacing module HypergraphsPlot.\n"
     ]
    },
    {
     "data": {
      "text/plain": [
       "Main.HypergraphsPlot"
      ]
     },
     "execution_count": 13,
     "metadata": {},
     "output_type": "execute_result"
    }
   ],
   "source": [
    "hgplt= include(\"../julia/HypergraphsPlot.jl\")"
   ]
  },
  {
   "cell_type": "code",
   "execution_count": 14,
   "metadata": {},
   "outputs": [
    {
     "data": {
      "text/plain": [
       "10×5 SimpleHypergraphs.Hypergraph{Int64,Nothing,Nothing}:\n",
       "  nothing   nothing   nothing   nothing  1       \n",
       "  nothing   nothing   nothing   nothing   nothing\n",
       " 1          nothing   nothing   nothing   nothing\n",
       "  nothing   nothing   nothing  1         1       \n",
       " 1          nothing   nothing  1          nothing\n",
       "  nothing  1          nothing   nothing   nothing\n",
       "  nothing   nothing   nothing   nothing  1       \n",
       "  nothing   nothing   nothing   nothing   nothing\n",
       "  nothing  1         1          nothing   nothing\n",
       "  nothing   nothing   nothing   nothing   nothing"
      ]
     },
     "execution_count": 14,
     "metadata": {},
     "output_type": "execute_result"
    }
   ],
   "source": [
    "#generate a random hg with 10 nodes and 5 hyperedges\n",
    "h= hgplt.generatehg(10,5)"
   ]
  },
  {
   "cell_type": "code",
   "execution_count": 15,
   "metadata": {},
   "outputs": [
    {
     "data": {
      "text/plain": [
       "852"
      ]
     },
     "execution_count": 15,
     "metadata": {},
     "output_type": "execute_result"
    }
   ],
   "source": [
    "#generate JSON\n",
    "hgplt.hgplot(h,\"venn\")"
   ]
  },
  {
   "cell_type": "code",
   "execution_count": 16,
   "metadata": {},
   "outputs": [
    {
     "data": {
      "text/html": [
       "    \n",
       "<style>\n",
       "\n",
       "        #original {\n",
       "            margin-left: 10%;\n",
       "        }\n",
       "\n",
       "        .venntooltip{\n",
       "            position:absolute;\n",
       "            text-align: left;\n",
       "            background: #333;\n",
       "            color: #ddd;\n",
       "            padding: 2px;\n",
       "            border: 0px;\n",
       "            border-radius: 8px;\n",
       "        }\n",
       "\n",
       "    </style>\n"
      ],
      "text/plain": [
       "HTML{String}(\"    \\n<style>\\n\\n        #original {\\n            margin-left: 10%;\\n        }\\n\\n        .venntooltip{\\n            position:absolute;\\n            text-align: left;\\n            background: #333;\\n            color: #ddd;\\n            padding: 2px;\\n            border: 0px;\\n            border-radius: 8px;\\n        }\\n\\n    </style>\\n\")"
      ]
     },
     "execution_count": 16,
     "metadata": {},
     "output_type": "execute_result"
    }
   ],
   "source": [
    "#style\n",
    "HTML(\"\"\"\n",
    "    \n",
    "<style>\n",
    "\n",
    "        #original {\n",
    "            margin-left: 10%;\n",
    "        }\n",
    "\n",
    "        .venntooltip{\n",
    "            position:absolute;\n",
    "            text-align: left;\n",
    "            background: #333;\n",
    "            color: #ddd;\n",
    "            padding: 2px;\n",
    "            border: 0px;\n",
    "            border-radius: 8px;\n",
    "        }\n",
    "\n",
    "    </style>\n",
    "\"\"\")"
   ]
  },
  {
   "cell_type": "code",
   "execution_count": 18,
   "metadata": {},
   "outputs": [
    {
     "data": {
      "text/html": [
       "<div id=\"original\"></div>\n",
       "<script type=\"text/javascript\" src=\"../scripts/venn/hg-venn-plot.js\"></script>\n",
       "<script>\n",
       "     hgVennPlot()\n",
       " </script>\n",
       "    \n"
      ],
      "text/plain": [
       "HTML{String}(\"<div id=\\\"original\\\"></div>\\n<script type=\\\"text/javascript\\\" src=\\\"../scripts/venn/hg-venn-plot.js\\\"></script>\\n<script>\\n     hgVennPlot()\\n </script>\\n    \\n\")"
      ]
     },
     "execution_count": 18,
     "metadata": {},
     "output_type": "execute_result"
    }
   ],
   "source": [
    "#funcion call\n",
    "HTML(\"\"\"\n",
    "<div id=\"original\"></div>\n",
    "<script type=\"text/javascript\" src=\"../scripts/venn/hg-venn-plot.js\"></script>\n",
    "<script>\n",
    "     hgVennPlot()\n",
    " </script>\n",
    "    \n",
    "\"\"\")"
   ]
  },
  {
   "cell_type": "code",
   "execution_count": null,
   "metadata": {},
   "outputs": [],
   "source": []
  }
 ],
 "metadata": {
  "kernelspec": {
   "display_name": "Julia 1.1.0",
   "language": "julia",
   "name": "julia-1.1"
  },
  "language_info": {
   "file_extension": ".jl",
   "mimetype": "application/julia",
   "name": "julia",
   "version": "1.1.0"
  }
 },
 "nbformat": 4,
 "nbformat_minor": 2
}
