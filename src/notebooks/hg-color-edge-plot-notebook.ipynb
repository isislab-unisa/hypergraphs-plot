{
 "cells": [
  {
   "cell_type": "code",
   "execution_count": 38,
   "metadata": {},
   "outputs": [
    {
     "name": "stderr",
     "output_type": "stream",
     "text": [
      "WARNING: replacing module HypergraphsPlot.\n"
     ]
    },
    {
     "data": {
      "text/plain": [
       "Main.HypergraphsPlot"
      ]
     },
     "execution_count": 38,
     "metadata": {},
     "output_type": "execute_result"
    }
   ],
   "source": [
    "hgplt= include(\"../julia/HypergraphsPlot.jl\")"
   ]
  },
  {
   "cell_type": "code",
   "execution_count": 39,
   "metadata": {},
   "outputs": [
    {
     "data": {
      "text/plain": [
       "10×5 SimpleHypergraphs.Hypergraph{Int64,Nothing,Nothing}:\n",
       "  nothing   nothing   nothing   nothing   nothing\n",
       "  nothing  1          nothing   nothing   nothing\n",
       "  nothing   nothing   nothing   nothing   nothing\n",
       "  nothing   nothing   nothing  1          nothing\n",
       " 1          nothing  1         1          nothing\n",
       "  nothing  1          nothing  1          nothing\n",
       "  nothing   nothing  1          nothing   nothing\n",
       "  nothing   nothing   nothing  1         1       \n",
       " 1         1         1          nothing  1       \n",
       "  nothing   nothing   nothing   nothing  1       "
      ]
     },
     "execution_count": 39,
     "metadata": {},
     "output_type": "execute_result"
    }
   ],
   "source": [
    "#generate a random hg with 10 nodes and 5 hyperedges\n",
    "h= hgplt.generatehg(10,5)"
   ]
  },
  {
   "cell_type": "code",
   "execution_count": 40,
   "metadata": {},
   "outputs": [
    {
     "data": {
      "text/plain": [
       "1234"
      ]
     },
     "execution_count": 40,
     "metadata": {},
     "output_type": "execute_result"
    }
   ],
   "source": [
    "#generate JSON\n",
    "hgplt.hgplot(h)"
   ]
  },
  {
   "cell_type": "code",
   "execution_count": 41,
   "metadata": {},
   "outputs": [
    {
     "data": {
      "text/html": [
       "<style>\n",
       "\n",
       ".link {\n",
       "\tstroke-width:2px;\n",
       "  fill: none;\n",
       "  stroke: #bbb;\n",
       "}\n",
       ".node circle {\n",
       "  pointer-events: all;\n",
       "  stroke: #000;\n",
       "  stroke-width: 1px;\n",
       "}\n",
       "\n",
       "</style>\n"
      ],
      "text/plain": [
       "HTML{String}(\"<style>\\n\\n.link {\\n\\tstroke-width:2px;\\n  fill: none;\\n  stroke: #bbb;\\n}\\n.node circle {\\n  pointer-events: all;\\n  stroke: #000;\\n  stroke-width: 1px;\\n}\\n\\n</style>\\n\")"
      ]
     },
     "execution_count": 41,
     "metadata": {},
     "output_type": "execute_result"
    }
   ],
   "source": [
    "#style\n",
    "HTML(\"\"\"\n",
    "<style>\n",
    "\n",
    ".link {\n",
    "\tstroke-width:2px;\n",
    "  fill: none;\n",
    "  stroke: #bbb;\n",
    "}\n",
    ".node circle {\n",
    "  pointer-events: all;\n",
    "  stroke: #000;\n",
    "  stroke-width: 1px;\n",
    "}\n",
    "\n",
    "</style>\n",
    "\"\"\")"
   ]
  },
  {
   "cell_type": "code",
   "execution_count": 42,
   "metadata": {
    "scrolled": true
   },
   "outputs": [
    {
     "data": {
      "text/html": [
       "<div id=\"hg-plot\"></div>\n",
       "<script src=\"../scripts/color-edge/hg-color-edge-plot.js\"></script>\n",
       "<script>\n",
       "hgColorEdgePlot()\n",
       "</script>\n",
       "    \n"
      ],
      "text/plain": [
       "HTML{String}(\"<div id=\\\"hg-plot\\\"></div>\\n<script src=\\\"../scripts/color-edge/hg-color-edge-plot.js\\\"></script>\\n<script>\\nhgColorEdgePlot()\\n</script>\\n    \\n\")"
      ]
     },
     "execution_count": 42,
     "metadata": {},
     "output_type": "execute_result"
    }
   ],
   "source": [
    "#funcion call\n",
    "HTML(\"\"\"\n",
    "<div id=\"hg-plot\"></div>\n",
    "<script src=\"../scripts/color-edge/hg-color-edge-plot.js\"></script>\n",
    "<script>\n",
    "hgColorEdgePlot()\n",
    "</script>\n",
    "    \n",
    "\"\"\")\n"
   ]
  },
  {
   "cell_type": "code",
   "execution_count": null,
   "metadata": {},
   "outputs": [],
   "source": []
  }
 ],
 "metadata": {
  "kernelspec": {
   "display_name": "Julia 1.1.0",
   "language": "julia",
   "name": "julia-1.1"
  },
  "language_info": {
   "file_extension": ".jl",
   "mimetype": "application/julia",
   "name": "julia",
   "version": "1.1.0"
  }
 },
 "nbformat": 4,
 "nbformat_minor": 2
}
