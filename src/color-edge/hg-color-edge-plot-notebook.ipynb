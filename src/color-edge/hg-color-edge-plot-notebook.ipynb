{
 "cells": [
  {
   "cell_type": "code",
   "execution_count": 1,
   "metadata": {},
   "outputs": [
    {
     "data": {
      "text/plain": [
       "Main.HypergraphsPlot"
      ]
     },
     "execution_count": 1,
     "metadata": {},
     "output_type": "execute_result"
    }
   ],
   "source": [
    "hgplt= include(\"../julia/HypergraphsPlot.jl\")"
   ]
  },
  {
   "cell_type": "code",
   "execution_count": 2,
   "metadata": {},
   "outputs": [
    {
     "data": {
      "text/plain": [
       "10×5 SimpleHypergraphs.Hypergraph{Int64,Nothing,Nothing}:\n",
       " 1          nothing   nothing   nothing  1       \n",
       "  nothing   nothing  1          nothing   nothing\n",
       "  nothing   nothing  1          nothing   nothing\n",
       " 1          nothing  1          nothing   nothing\n",
       "  nothing   nothing   nothing   nothing   nothing\n",
       " 1         1         1          nothing   nothing\n",
       "  nothing  1          nothing   nothing  1       \n",
       "  nothing   nothing  1         1          nothing\n",
       "  nothing   nothing   nothing   nothing   nothing\n",
       "  nothing  1          nothing   nothing   nothing"
      ]
     },
     "execution_count": 2,
     "metadata": {},
     "output_type": "execute_result"
    }
   ],
   "source": [
    "#generate a random hg with 10 nodes and 5 hyperedges\n",
    "h= hgplt.generatehg(10,5)"
   ]
  },
  {
   "cell_type": "code",
   "execution_count": 3,
   "metadata": {},
   "outputs": [
    {
     "data": {
      "text/plain": [
       "1107"
      ]
     },
     "execution_count": 3,
     "metadata": {},
     "output_type": "execute_result"
    }
   ],
   "source": [
    "#generate JSON\n",
    "hgplt.hgplot(h)"
   ]
  },
  {
   "cell_type": "code",
   "execution_count": 4,
   "metadata": {},
   "outputs": [
    {
     "data": {
      "text/html": [
       "    \n",
       "<style>\n",
       ".link {\n",
       "\tstroke-width:2px;\n",
       "  fill: none;\n",
       "  stroke: #bbb;\n",
       "}\n",
       ".node circle {\n",
       "  pointer-events: all;\n",
       "  stroke: #000;\n",
       "  stroke-width: 1px;\n",
       "}\n",
       "</style>\n"
      ],
      "text/plain": [
       "HTML{String}(\"    \\n<style>\\n.link {\\n\\tstroke-width:2px;\\n  fill: none;\\n  stroke: #bbb;\\n}\\n.node circle {\\n  pointer-events: all;\\n  stroke: #000;\\n  stroke-width: 1px;\\n}\\n</style>\\n\")"
      ]
     },
     "execution_count": 4,
     "metadata": {},
     "output_type": "execute_result"
    }
   ],
   "source": [
    "#style\n",
    "HTML(\"\"\"\n",
    "    \n",
    "<style>\n",
    ".link {\n",
    "\tstroke-width:2px;\n",
    "  fill: none;\n",
    "  stroke: #bbb;\n",
    "}\n",
    ".node circle {\n",
    "  pointer-events: all;\n",
    "  stroke: #000;\n",
    "  stroke-width: 1px;\n",
    "}\n",
    "</style>\n",
    "\"\"\")\n"
   ]
  },
  {
   "cell_type": "code",
   "execution_count": 5,
   "metadata": {},
   "outputs": [
    {
     "data": {
      "text/html": [
       "<div id=\"hg-plot\"></div>\n",
       "<script src=\"scripts/hg-color-edge-plot.js\"></script>\n",
       "<script>\n",
       "hgColorEdgePlot()\n",
       "</script>\n",
       "    \n"
      ],
      "text/plain": [
       "HTML{String}(\"<div id=\\\"hg-plot\\\"></div>\\n<script src=\\\"scripts/hg-color-edge-plot.js\\\"></script>\\n<script>\\nhgColorEdgePlot()\\n</script>\\n    \\n\")"
      ]
     },
     "execution_count": 5,
     "metadata": {},
     "output_type": "execute_result"
    }
   ],
   "source": [
    "#funcion call\n",
    "HTML(\"\"\"\n",
    "<div id=\"hg-plot\"></div>\n",
    "<script src=\"scripts/hg-color-edge-plot.js\"></script>\n",
    "<script>\n",
    "hgColorEdgePlot()\n",
    "</script>\n",
    "    \n",
    "\"\"\")\n"
   ]
  },
  {
   "cell_type": "code",
   "execution_count": null,
   "metadata": {},
   "outputs": [],
   "source": []
  }
 ],
 "metadata": {
  "kernelspec": {
   "display_name": "Julia 1.1.0",
   "language": "julia",
   "name": "julia-1.1"
  },
  "language_info": {
   "file_extension": ".jl",
   "mimetype": "application/julia",
   "name": "julia",
   "version": "1.1.0"
  }
 },
 "nbformat": 4,
 "nbformat_minor": 2
}
