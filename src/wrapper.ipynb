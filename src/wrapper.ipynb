{
 "cells": [
  {
   "cell_type": "code",
   "execution_count": 5,
   "metadata": {},
   "outputs": [
    {
     "name": "stderr",
     "output_type": "stream",
     "text": [
      "WARNING: replacing module HypergraphsPlot.\n"
     ]
    }
   ],
   "source": [
    "include(\"julia/HypergraphsPlot.jl\")\n",
    "using PyCall"
   ]
  },
  {
   "cell_type": "code",
   "execution_count": 6,
   "metadata": {},
   "outputs": [
    {
     "name": "stderr",
     "output_type": "stream",
     "text": [
      "┌ Warning: `getindex(o::PyObject, s::AbstractString)` is deprecated in favor of dot overloading (`getproperty`) so elements should now be accessed as e.g. `o.\"s\"` instead of `o[\"s\"]`.\n",
      "│   caller = top-level scope at In[6]:1\n",
      "└ @ Core In[6]:1\n"
     ]
    },
    {
     "data": {
      "text/plain": [
       "PyObject ['C:\\\\Users\\\\maxim\\\\.julia\\\\conda\\\\3\\\\python36.zip', 'C:\\\\Users\\\\maxim\\\\.julia\\\\conda\\\\3\\\\DLLs', 'C:\\\\Users\\\\maxim\\\\.julia\\\\conda\\\\3\\\\lib', 'C:\\\\Users\\\\maxim\\\\AppData\\\\Local\\\\Julia-1.1.0\\\\bin', 'C:\\\\Users\\\\maxim\\\\.julia\\\\conda\\\\3', 'C:\\\\Users\\\\maxim\\\\.julia\\\\conda\\\\3\\\\lib\\\\site-packages', 'C:\\\\Users\\\\maxim\\\\.julia\\\\conda\\\\3\\\\lib\\\\site-packages\\\\win32', 'C:\\\\Users\\\\maxim\\\\.julia\\\\conda\\\\3\\\\lib\\\\site-packages\\\\win32\\\\lib', 'C:\\\\Users\\\\maxim\\\\.julia\\\\conda\\\\3\\\\lib\\\\site-packages\\\\Pythonwin', 'C:\\\\Users\\\\maxim\\\\github\\\\hypergraphs-plot\\\\src']"
      ]
     },
     "execution_count": 6,
     "metadata": {},
     "output_type": "execute_result"
    }
   ],
   "source": [
    "#do this the first time to add the current path to the sys.path\n",
    "push!(pyimport(\"sys\")[\"path\"], pwd())"
   ]
  },
  {
   "cell_type": "code",
   "execution_count": 7,
   "metadata": {
    "scrolled": false
   },
   "outputs": [
    {
     "data": {
      "text/plain": [
       "10×5 SimpleHypergraphs.Hypergraph{Int64,Nothing,Nothing}:\n",
       "  nothing   nothing   nothing   nothing  1       \n",
       "  nothing   nothing   nothing   nothing   nothing\n",
       " 1          nothing   nothing   nothing   nothing\n",
       " 1          nothing  1          nothing   nothing\n",
       "  nothing   nothing   nothing   nothing   nothing\n",
       "  nothing   nothing   nothing  1          nothing\n",
       "  nothing  1          nothing   nothing   nothing\n",
       "  nothing   nothing   nothing   nothing   nothing\n",
       "  nothing   nothing   nothing   nothing   nothing\n",
       " 1          nothing  1          nothing   nothing"
      ]
     },
     "execution_count": 7,
     "metadata": {},
     "output_type": "execute_result"
    }
   ],
   "source": [
    "h= HypergraphsPlot.generatehg()"
   ]
  },
  {
   "cell_type": "code",
   "execution_count": 8,
   "metadata": {},
   "outputs": [
    {
     "name": "stderr",
     "output_type": "stream",
     "text": [
      "┌ Warning: `getindex(o::PyObject, s::Symbol)` is deprecated in favor of dot overloading (`getproperty`) so elements should now be accessed as e.g. `o.s` instead of `o[:s]`.\n",
      "│   caller = plotColorEdge(::String) at plot.jl:33\n",
      "└ @ Main.HypergraphsPlot C:\\Users\\maxim\\github\\hypergraphs-plot\\src\\julia\\plot.jl:33\n"
     ]
    },
    {
     "data": {
      "text/html": [
       "<!DOCTYPE html>\n",
       "<meta charset=\"utf-8\">\n",
       "<head>\n",
       "    <link rel=\"stylesheet\" type=\"text/css\" href=\"scripts/color-edge/color-edge-style.css\">\n",
       "    <script src=\"scripts/require.js\"></script>\n",
       "</head>\n",
       "<style>\n",
       "\n",
       "</style>\n",
       "<body>\n",
       "    <div class=\"input-group input-group-lg\">\n",
       "        <div class=\"input-group-prepend\">\n",
       "          <span class=\"input-group-text\" id=\"inputGroup-sizing-lg\"><h2>New Nodes</h2></span>\n",
       "        </div>\n",
       "        Id Nodes\n",
       "        <input type=\"text\" id=\"idNewNode\" class=\"form-control\" aria-label=\"Sizing example input\" aria-describedby=\"inputGroup-sizing-lg\" size=\"10\" placeholder=\"5\"> \n",
       "        <br>\n",
       "        Id Hypergraph\n",
       "        <input type=\"text\" id=\"idHypergraphNewNode\" class=\"form-control\" aria-label=\"Sizing example input\" aria-describedby=\"inputGroup-sizing-lg\" size=\"10\" placeholder=\"1,2,3\">\n",
       "        <br>\n",
       "        Values Nodes HyperEdges\n",
       "        <input type=\"text\" id=\"valueNewNode\" class=\"form-control\" aria-label=\"Sizing example input\" aria-describedby=\"inputGroup-sizing-lg\" size=\"10\" placeholder=\"1\">\n",
       "\n",
       "\n",
       "        <div class=\"input-group-prepend\">\n",
       "            <span class=\"input-group-text\" id=\"inputGroup-sizing-lg\"><h2>New HyperEdges</h2></span>\n",
       "          </div>\n",
       "          Id HyperEdges\n",
       "          <input type=\"text\" id=\"newIdHypergraph\" class=\"form-control\" aria-label=\"Sizing example input\" aria-describedby=\"inputGroup-sizing-lg\" size=\"10\" placeholder=\"5\">\n",
       "          <br>\n",
       "          Nodes HyperEdges\n",
       "          <input type=\"text\" id=\"nodesInNewHypergraph\" class=\"form-control\" aria-label=\"Sizing example input\" aria-describedby=\"inputGroup-sizing-lg\" size=\"10\" placeholder=\"1,2,3\">\n",
       "          <br>\n",
       "          Values Nodes HyperEdges\n",
       "          <input type=\"text\" id=\"valuesNodesInNewHypergraph\" class=\"form-control\" aria-label=\"Sizing example input\" aria-describedby=\"inputGroup-sizing-lg\" size=\"10\" placeholder=\"1,2,3\">\n",
       "\n",
       "          <br>\n",
       "        <button type=\"button\" id=\"confirm\">Invia</button>\n",
       "        <button type=\"button\" id=\"reset\">Reset</button>\n",
       "      </div>\n",
       "\n",
       "      \n",
       "\n",
       "    <div class=\"hg-plot\"></div>\n",
       "    <script src=\"https://ajax.googleapis.com/ajax/libs/jquery/3.4.1/jquery.min.js\"></script>\n",
       "    <script src=\"scripts/functions.js\"></script>\n",
       "    <script src=\"scripts/color-edge/hg-color-edge-plot.js\"></script>\n",
       "    \n",
       "    <script>\n",
       "    hgColorEdgePlot({json:'scripts/data.json'})\n",
       "    </script>\n",
       "</body>\n"
      ],
      "text/plain": [
       "PyObject <IPython.core.display.HTML object>"
      ]
     },
     "execution_count": 8,
     "metadata": {},
     "output_type": "execute_result"
    },
    {
     "name": "stderr",
     "output_type": "stream",
     "text": [
      "┌ Warning: `getindex(o::PyObject, s::AbstractString)` is deprecated in favor of dot overloading (`getproperty`) so elements should now be accessed as e.g. `o.\"s\"` instead of `o[\"s\"]`.\n",
      "│   caller = show(::IOContext{Base.GenericIOBuffer{Array{UInt8,1}}}, ::MIME{Symbol(\"text/html\")}, ::PyObject) at PyCall.jl:895\n",
      "└ @ PyCall C:\\Users\\maxim\\.julia\\packages\\PyCall\\ttONZ\\src\\PyCall.jl:895\n"
     ]
    }
   ],
   "source": [
    "HypergraphsPlot.plot(h)"
   ]
  },
  {
   "cell_type": "code",
   "execution_count": 9,
   "metadata": {},
   "outputs": [
    {
     "name": "stderr",
     "output_type": "stream",
     "text": [
      "┌ Warning: `getindex(o::PyObject, s::Symbol)` is deprecated in favor of dot overloading (`getproperty`) so elements should now be accessed as e.g. `o.s` instead of `o[:s]`.\n",
      "│   caller = plotVenn(::String) at plot.jl:28\n",
      "└ @ Main.HypergraphsPlot C:\\Users\\maxim\\github\\hypergraphs-plot\\src\\julia\\plot.jl:28\n"
     ]
    },
    {
     "data": {
      "text/html": [
       "<!DOCTYPE html>\n",
       "<html>\n",
       "\n",
       "<head>\n",
       "    <meta charset=\"utf-8\" />\n",
       "    <meta http-equiv=\"X-UA-Compatible\" content=\"IE=edge\" />\n",
       "    <title>Venn Diagram - pack layout</title>\n",
       "    <script src=\"scripts/require.js\"></script>\n",
       "    <link rel=\"stylesheet\" type=\"text/css\" href=\"scripts/venn/venn-style.css\">\n",
       "</head>\n",
       " \n",
       "<body>\n",
       "  <div class=\"input-group input-group-lg\">\n",
       "      <div class=\"input-group-prepend\">\n",
       "        <span class=\"input-group-text\" id=\"inputGroup-sizing-lg\"><h2>New Nodes</h2></span>\n",
       "      </div>\n",
       "      Id Nodes\n",
       "      <input type=\"text\" id=\"idNewNode\" class=\"form-control\" aria-label=\"Sizing example input\" aria-describedby=\"inputGroup-sizing-lg\" size=\"10\" placeholder=\"5\"> \n",
       "      <br>\n",
       "      Id Hypergraph\n",
       "      <input type=\"text\" id=\"idHypergraphNewNode\" class=\"form-control\" aria-label=\"Sizing example input\" aria-describedby=\"inputGroup-sizing-lg\" size=\"10\" placeholder=\"1,2,3\">\n",
       "      <br>\n",
       "      Values Nodes HyperEdges\n",
       "      <input type=\"text\" id=\"valueNewNode\" class=\"form-control\" aria-label=\"Sizing example input\" aria-describedby=\"inputGroup-sizing-lg\" size=\"10\" placeholder=\"1\">\n",
       "\n",
       "\n",
       "      <div class=\"input-group-prepend\">\n",
       "          <span class=\"input-group-text\" id=\"inputGroup-sizing-lg\"><h2>New HyperEdges</h2></span>\n",
       "        </div>\n",
       "        Id HyperEdges\n",
       "        <input type=\"text\" id=\"newIdHypergraph\" class=\"form-control\" aria-label=\"Sizing example input\" aria-describedby=\"inputGroup-sizing-lg\" size=\"10\" placeholder=\"5\">\n",
       "        <br>\n",
       "        Nodes HyperEdges\n",
       "        <input type=\"text\" id=\"nodesInNewHypergraph\" class=\"form-control\" aria-label=\"Sizing example input\" aria-describedby=\"inputGroup-sizing-lg\" size=\"10\" placeholder=\"1,2,3\">\n",
       "        <br>\n",
       "        Values Nodes HyperEdges\n",
       "        <input type=\"text\" id=\"valuesNodesInNewHypergraph\" class=\"form-control\" aria-label=\"Sizing example input\" aria-describedby=\"inputGroup-sizing-lg\" size=\"10\" placeholder=\"1,2,3\">\n",
       "\n",
       "        <br>\n",
       "        \n",
       "      <button type=\"button\" id=\"confirm\" >Invia</button>\n",
       "      <button type=\"button\" id=\"reset\" >Reset</button>\n",
       "    </div>\n",
       "\n",
       "              \n",
       "              <div id=\"links_information\">\n",
       "                <span id=\"close_information\">x</span>\n",
       "                <table id=\"table_information\">\n",
       "                  <tr>\n",
       "                    <th>Set</th>\n",
       "                    <th>Node</th>\n",
       "                    <th>Value</th>\n",
       "                  </tr>\n",
       "                  \n",
       "                </table>\n",
       "              </div>\n",
       "\n",
       "    <div id=\"original\"></div>\n",
       "    <script src=\"https://ajax.googleapis.com/ajax/libs/jquery/3.4.1/jquery.min.js\"></script>\n",
       "    <script src=\"scripts/functions.js\"></script>\n",
       "    <script src=\"scripts/venn/venn-functions.js\"></script>\n",
       "    <script type=\"text/javascript\" src=\"scripts/venn/hg-venn-plot.js\"></script>\n",
       "    <script>\n",
       "        hgVennPlot({json:'scripts/data.json'})\n",
       "    </script>   \n",
       "</body>\n",
       "\n",
       "</html>"
      ],
      "text/plain": [
       "PyObject <IPython.core.display.HTML object>"
      ]
     },
     "execution_count": 9,
     "metadata": {},
     "output_type": "execute_result"
    }
   ],
   "source": [
    "HypergraphsPlot.plot(h,type=\"venn\")"
   ]
  },
  {
   "cell_type": "code",
   "execution_count": null,
   "metadata": {},
   "outputs": [],
   "source": []
  }
 ],
 "metadata": {
  "kernelspec": {
   "display_name": "Julia 1.1.0",
   "language": "julia",
   "name": "julia-1.1"
  },
  "language_info": {
   "file_extension": ".jl",
   "mimetype": "application/julia",
   "name": "julia",
   "version": "1.1.0"
  }
 },
 "nbformat": 4,
 "nbformat_minor": 2
}
