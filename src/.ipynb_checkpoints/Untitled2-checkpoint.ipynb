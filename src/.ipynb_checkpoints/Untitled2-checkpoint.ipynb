{
 "cells": [
  {
   "cell_type": "code",
   "execution_count": 115,
   "metadata": {},
   "outputs": [
    {
     "name": "stderr",
     "output_type": "stream",
     "text": [
      "WARNING: replacing module HypergraphsPlot.\n"
     ]
    },
    {
     "data": {
      "text/plain": [
       "Main.HypergraphsPlot"
      ]
     },
     "execution_count": 115,
     "metadata": {},
     "output_type": "execute_result"
    }
   ],
   "source": [
    "hgplot= include(raw\"julia/HypergraphsPlot.jl\")"
   ]
  },
  {
   "cell_type": "code",
   "execution_count": 116,
   "metadata": {},
   "outputs": [
    {
     "data": {
      "text/plain": [
       "10×5 SimpleHypergraphs.Hypergraph{Int64,Nothing,Nothing}:\n",
       "  nothing   nothing  1          nothing   nothing\n",
       "  nothing  1          nothing   nothing   nothing\n",
       " 1          nothing   nothing   nothing  1       \n",
       "  nothing   nothing   nothing  1          nothing\n",
       "  nothing   nothing  1          nothing  1       \n",
       "  nothing   nothing   nothing   nothing   nothing\n",
       "  nothing   nothing   nothing   nothing  1       \n",
       " 1          nothing  1         1          nothing\n",
       " 1         1          nothing   nothing   nothing\n",
       " 1          nothing   nothing  1         1       "
      ]
     },
     "execution_count": 116,
     "metadata": {},
     "output_type": "execute_result"
    }
   ],
   "source": [
    "h= hgplot.generatehg()"
   ]
  },
  {
   "cell_type": "code",
   "execution_count": 117,
   "metadata": {},
   "outputs": [
    {
     "data": {
      "text/html": [
       "<!DOCTYPE html>\n",
       "<meta charset=\"utf-8\">\n",
       "<html>\n",
       "<head>\n",
       "    <script src=\"scripts/require.js\"></script>\n",
       "</head>\n",
       "<style>\n",
       "\n",
       ".link {\n",
       "\tstroke-width:2px;\n",
       "  fill: none;\n",
       "  stroke: #bbb;\n",
       "}\n",
       ".node circle {\n",
       "  pointer-events: all;\n",
       "  stroke: #000;\n",
       "  stroke-width: 1px;\n",
       "}\n",
       "\n",
       "</style>\n",
       "<body>\n",
       "    <div class=\"input-group input-group-lg\" style=\"position:absolute; top:0; right:0;\">\n",
       "        <div class=\"input-group-prepend\">\n",
       "          <span class=\"input-group-text\" id=\"inputGroup-sizing-lg\"><h2>New Nodes</h2></span>\n",
       "        </div>\n",
       "        Id Nodes\n",
       "        <input type=\"text\" id=\"idNewNode\" class=\"form-control\" aria-label=\"Sizing example input\" aria-describedby=\"inputGroup-sizing-lg\" size=\"10\" placeholder=\"5\"> \n",
       "        <br>\n",
       "        Id Hypergraph\n",
       "        <input type=\"text\" id=\"idHypergraphNewNode\" class=\"form-control\" aria-label=\"Sizing example input\" aria-describedby=\"inputGroup-sizing-lg\" size=\"10\" placeholder=\"1,2,3\">\n",
       "        <br>\n",
       "        Values Nodes HyperEdges\n",
       "        <input type=\"text\" id=\"valueNewNode\" class=\"form-control\" aria-label=\"Sizing example input\" aria-describedby=\"inputGroup-sizing-lg\" size=\"10\" placeholder=\"1\">\n",
       "\n",
       "\n",
       "        <div class=\"input-group-prepend\">\n",
       "            <span class=\"input-group-text\" id=\"inputGroup-sizing-lg\"><h2>New HyperEdges</h2></span>\n",
       "          </div>\n",
       "          Id HyperEdges\n",
       "          <input type=\"text\" id=\"newIdHypergraph\" class=\"form-control\" aria-label=\"Sizing example input\" aria-describedby=\"inputGroup-sizing-lg\" size=\"10\" placeholder=\"5\">\n",
       "          <br>\n",
       "          Nodes HyperEdges\n",
       "          <input type=\"text\" id=\"nodesInNewHypergraph\" class=\"form-control\" aria-label=\"Sizing example input\" aria-describedby=\"inputGroup-sizing-lg\" size=\"10\" placeholder=\"1,2,3\">\n",
       "          <br>\n",
       "          Values Nodes HyperEdges\n",
       "          <input type=\"text\" id=\"valuesNodesInNewHypergraph\" class=\"form-control\" aria-label=\"Sizing example input\" aria-describedby=\"inputGroup-sizing-lg\" size=\"10\" placeholder=\"1,2,3\">\n",
       "\n",
       "          <br>\n",
       "          <div class=\"input-group-prepend\">\n",
       "              <span class=\"input-group-text\" id=\"inputGroup-sizing-lg\"><h2> Nodes</h2></span>\n",
       "          </div>\n",
       "          Select Node\n",
       "          <input type=\"text\" id=\"selectnode\" class=\"form-control\" aria-label=\"Sizing example input\" aria-describedby=\"inputGroup-sizing-lg\" size=\"10\" placeholder=\"1\">\n",
       "          <input type=\"checkbox\" id=\"checkbox\" name=\"checkbox\" value=\"checkbox\"><br>\n",
       "          <br>\n",
       "        <button type=\"button\" id=\"confirm\" style=\"margin-top:5%\">Invia</button>\n",
       "        <button type=\"button\" id=\"reset\" style=\"margin-top:5%\">Reset</button>\n",
       "      </div>\n",
       "\n",
       "      \n",
       "\n",
       "    <div class=\"hg-plot\"></div>\n",
       "\n",
       "\n",
       "    <script src=\"https://ajax.googleapis.com/ajax/libs/jquery/3.4.1/jquery.min.js\"></script>\n",
       "    <script src=\"scripts/color-edge/hg-color-edge-plot.js\"></script>\n",
       "    \n",
       "    <script>\n",
       "    hgColorEdgePlot()\n",
       "    </script>\n",
       "</body>\n",
       "</html>\n"
      ],
      "text/plain": [
       "PyObject <IPython.core.display.HTML object>"
      ]
     },
     "execution_count": 117,
     "metadata": {},
     "output_type": "execute_result"
    }
   ],
   "source": [
    "hgplot.plot(h)"
   ]
  },
  {
   "cell_type": "code",
   "execution_count": 107,
   "metadata": {},
   "outputs": [
    {
     "data": {
      "text/html": [
       "<!DOCTYPE html>\n",
       "<meta charset=\"utf-8\">\n",
       "<html>\n",
       "<head>\n",
       "    <script src=\"scripts/require.js\"></script>\n",
       "</head>\n",
       "<style>\n",
       "\n",
       ".link {\n",
       "\tstroke-width:2px;\n",
       "  fill: none;\n",
       "  stroke: #bbb;\n",
       "}\n",
       ".node circle {\n",
       "  pointer-events: all;\n",
       "  stroke: #000;\n",
       "  stroke-width: 1px;\n",
       "}\n",
       "\n",
       "</style>\n",
       "<body>\n",
       "    <div class=\"input-group input-group-lg\" style=\"position:absolute; top:0; right:0;\">\n",
       "        <div class=\"input-group-prepend\">\n",
       "          <span class=\"input-group-text\" id=\"inputGroup-sizing-lg\"><h2>New Nodes</h2></span>\n",
       "        </div>\n",
       "        Id Nodes\n",
       "        <input type=\"text\" id=\"idNewNode\" class=\"form-control\" aria-label=\"Sizing example input\" aria-describedby=\"inputGroup-sizing-lg\" size=\"10\" placeholder=\"5\"> \n",
       "        <br>\n",
       "        Id Hypergraph\n",
       "        <input type=\"text\" id=\"idHypergraphNewNode\" class=\"form-control\" aria-label=\"Sizing example input\" aria-describedby=\"inputGroup-sizing-lg\" size=\"10\" placeholder=\"1,2,3\">\n",
       "        <br>\n",
       "        Values Nodes HyperEdges\n",
       "        <input type=\"text\" id=\"valueNewNode\" class=\"form-control\" aria-label=\"Sizing example input\" aria-describedby=\"inputGroup-sizing-lg\" size=\"10\" placeholder=\"1\">\n",
       "\n",
       "\n",
       "        <div class=\"input-group-prepend\">\n",
       "            <span class=\"input-group-text\" id=\"inputGroup-sizing-lg\"><h2>New HyperEdges</h2></span>\n",
       "          </div>\n",
       "          Id HyperEdges\n",
       "          <input type=\"text\" id=\"newIdHypergraph\" class=\"form-control\" aria-label=\"Sizing example input\" aria-describedby=\"inputGroup-sizing-lg\" size=\"10\" placeholder=\"5\">\n",
       "          <br>\n",
       "          Nodes HyperEdges\n",
       "          <input type=\"text\" id=\"nodesInNewHypergraph\" class=\"form-control\" aria-label=\"Sizing example input\" aria-describedby=\"inputGroup-sizing-lg\" size=\"10\" placeholder=\"1,2,3\">\n",
       "          <br>\n",
       "          Values Nodes HyperEdges\n",
       "          <input type=\"text\" id=\"valuesNodesInNewHypergraph\" class=\"form-control\" aria-label=\"Sizing example input\" aria-describedby=\"inputGroup-sizing-lg\" size=\"10\" placeholder=\"1,2,3\">\n",
       "\n",
       "          <br>\n",
       "          <div class=\"input-group-prepend\">\n",
       "              <span class=\"input-group-text\" id=\"inputGroup-sizing-lg\"><h2> Nodes</h2></span>\n",
       "          </div>\n",
       "          Select Node\n",
       "          <input type=\"text\" id=\"selectnode\" class=\"form-control\" aria-label=\"Sizing example input\" aria-describedby=\"inputGroup-sizing-lg\" size=\"10\" placeholder=\"1\">\n",
       "          <input type=\"checkbox\" id=\"checkbox\" name=\"checkbox\" value=\"checkbox\"><br>\n",
       "          <br>\n",
       "        <button type=\"button\" id=\"confirm\" style=\"margin-top:5%\">Invia</button>\n",
       "        <button type=\"button\" id=\"reset\" style=\"margin-top:5%\">Reset</button>\n",
       "      </div>\n",
       "\n",
       "      \n",
       "\n",
       "    <div class=\"hg-plot\"></div>\n",
       "\n",
       "\n",
       "    <script src=\"https://ajax.googleapis.com/ajax/libs/jquery/3.4.1/jquery.min.js\"></script>\n",
       "    <script src=\"scripts/color-edge/hg-color-edge-plot.js\"></script>\n",
       "    \n",
       "    <script>\n",
       "    hgColorEdgePlot()\n",
       "    </script>\n",
       "</body>\n",
       "</html>\n"
      ],
      "text/plain": [
       "PyObject <IPython.core.display.HTML object>"
      ]
     },
     "execution_count": 107,
     "metadata": {},
     "output_type": "execute_result"
    }
   ],
   "source": [
    "HypergraphsPlot.plotColorEdge()"
   ]
  },
  {
   "cell_type": "code",
   "execution_count": 94,
   "metadata": {},
   "outputs": [
    {
     "data": {
      "text/html": [
       "<!DOCTYPE html>\n",
       "<html>\n",
       "\n",
       "<head>\n",
       "    <meta charset=\"utf-8\" />\n",
       "    <meta http-equiv=\"X-UA-Compatible\" content=\"IE=edge\" />\n",
       "    <title>Venn Diagram - pack layout</title>\n",
       "    <script src=\"scripts/require.js\"></script>\n",
       "    <link rel=\"stylesheet\" type=\"text/css\" href=\"scripts/venn/venn-style.css\">\n",
       "</head>\n",
       " \n",
       "<body>\n",
       "  <div class=\"input-group input-group-lg\" style=\"position:absolute; top:0; right:50px;\">\n",
       "      <div class=\"input-group-prepend\">\n",
       "        <span class=\"input-group-text\" id=\"inputGroup-sizing-lg\"><h2>New Nodes</h2></span>\n",
       "      </div>\n",
       "      Id Nodes\n",
       "      <input type=\"text\" id=\"idNewNode\" class=\"form-control\" aria-label=\"Sizing example input\" aria-describedby=\"inputGroup-sizing-lg\" size=\"10\" placeholder=\"5\"> \n",
       "      <br>\n",
       "      Id Hypergraph\n",
       "      <input type=\"text\" id=\"idHypergraphNewNode\" class=\"form-control\" aria-label=\"Sizing example input\" aria-describedby=\"inputGroup-sizing-lg\" size=\"10\" placeholder=\"1,2,3\">\n",
       "      <br>\n",
       "      Values Nodes HyperEdges\n",
       "      <input type=\"text\" id=\"valueNewNode\" class=\"form-control\" aria-label=\"Sizing example input\" aria-describedby=\"inputGroup-sizing-lg\" size=\"10\" placeholder=\"1\">\n",
       "\n",
       "\n",
       "      <div class=\"input-group-prepend\">\n",
       "          <span class=\"input-group-text\" id=\"inputGroup-sizing-lg\"><h2>New HyperEdges</h2></span>\n",
       "        </div>\n",
       "        Id HyperEdges\n",
       "        <input type=\"text\" id=\"newIdHypergraph\" class=\"form-control\" aria-label=\"Sizing example input\" aria-describedby=\"inputGroup-sizing-lg\" size=\"10\" placeholder=\"5\">\n",
       "        <br>\n",
       "        Nodes HyperEdges\n",
       "        <input type=\"text\" id=\"nodesInNewHypergraph\" class=\"form-control\" aria-label=\"Sizing example input\" aria-describedby=\"inputGroup-sizing-lg\" size=\"10\" placeholder=\"1,2,3\">\n",
       "        <br>\n",
       "        Values Nodes HyperEdges\n",
       "        <input type=\"text\" id=\"valuesNodesInNewHypergraph\" class=\"form-control\" aria-label=\"Sizing example input\" aria-describedby=\"inputGroup-sizing-lg\" size=\"10\" placeholder=\"1,2,3\">\n",
       "\n",
       "        <br>\n",
       "        \n",
       "      <button type=\"button\" id=\"confirm\" style=\"margin-top:5%\">Invia</button>\n",
       "      <button type=\"button\" id=\"reset\" style=\"margin-top:5%\">Reset</button>\n",
       "    </div>\n",
       "\n",
       "              \n",
       "              <div id=\"links_information\">\n",
       "                <span id=\"close_information\" style=\"float: right; color:brown\">x</span>\n",
       "                <table id=\"table_information\">\n",
       "                  <tr>\n",
       "                    <th>Set</th>\n",
       "                    <th>Node</th>\n",
       "                    <th>Value</th>\n",
       "                  </tr>\n",
       "                  \n",
       "                </table>\n",
       "              </div>\n",
       "\n",
       "    <div id=\"original\"></div>\n",
       "    <script src=\"https://ajax.googleapis.com/ajax/libs/jquery/3.4.1/jquery.min.js\"></script>\n",
       "    <script src=\"scripts/functions.js\"></script>\n",
       "    <script src=\"scripts/venn/venn-functions.js\"></script>\n",
       "    <script type=\"text/javascript\" src=\"scripts/venn/hg-venn-plot.js\"></script>\n",
       "    <script>\n",
       "        hgVennPlot()\n",
       "    </script>   \n",
       "</body>\n",
       "\n",
       "</html>\n"
      ],
      "text/plain": [
       "PyObject <IPython.core.display.HTML object>"
      ]
     },
     "execution_count": 94,
     "metadata": {},
     "output_type": "execute_result"
    }
   ],
   "source": [
    "MyModule.plotVenn()"
   ]
  },
  {
   "cell_type": "code",
   "execution_count": null,
   "metadata": {},
   "outputs": [],
   "source": []
  }
 ],
 "metadata": {
  "kernelspec": {
   "display_name": "Julia 1.1.1",
   "language": "julia",
   "name": "julia-1.1"
  },
  "language_info": {
   "file_extension": ".jl",
   "mimetype": "application/julia",
   "name": "julia",
   "version": "1.1.1"
  }
 },
 "nbformat": 4,
 "nbformat_minor": 2
}
