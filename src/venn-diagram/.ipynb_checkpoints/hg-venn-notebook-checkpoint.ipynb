{
 "cells": [
  {
   "cell_type": "code",
   "execution_count": 1,
   "metadata": {},
   "outputs": [
    {
     "data": {
      "text/plain": [
       "Main.HypergraphsPlot"
      ]
     },
     "execution_count": 1,
     "metadata": {},
     "output_type": "execute_result"
    }
   ],
   "source": [
    "hgplt= include(\"../julia/HypergraphsPlot.jl\")"
   ]
  },
  {
   "cell_type": "code",
   "execution_count": 2,
   "metadata": {},
   "outputs": [
    {
     "data": {
      "text/plain": [
       "10×5 SimpleHypergraphs.Hypergraph{Int64,Nothing,Nothing}:\n",
       " 1          nothing   nothing   nothing   nothing\n",
       " 1         1         1          nothing   nothing\n",
       "  nothing   nothing   nothing  1          nothing\n",
       " 1          nothing   nothing  1          nothing\n",
       "  nothing   nothing   nothing  1          nothing\n",
       "  nothing   nothing   nothing   nothing  1       \n",
       "  nothing   nothing  1          nothing   nothing\n",
       " 1          nothing   nothing   nothing  1       \n",
       "  nothing   nothing  1          nothing   nothing\n",
       "  nothing   nothing   nothing   nothing   nothing"
      ]
     },
     "execution_count": 2,
     "metadata": {},
     "output_type": "execute_result"
    }
   ],
   "source": [
    "#generate a random hg with 10 nodes and 5 hyperedges\n",
    "h= hgplt.generatehg(10,5)"
   ]
  },
  {
   "cell_type": "code",
   "execution_count": 3,
   "metadata": {},
   "outputs": [
    {
     "data": {
      "text/plain": [
       "1037"
      ]
     },
     "execution_count": 3,
     "metadata": {},
     "output_type": "execute_result"
    }
   ],
   "source": [
    "#generate JSON\n",
    "hgplt.hgplot(h,\"venn\")"
   ]
  },
  {
   "cell_type": "code",
   "execution_count": 4,
   "metadata": {},
   "outputs": [
    {
     "data": {
      "text/html": [
       "    \n",
       "<style>\n",
       "\n",
       "        #original {\n",
       "            margin-left: 10%;\n",
       "        }\n",
       "\n",
       "        .venntooltip{\n",
       "            position:absolute;\n",
       "            text-align: left;\n",
       "            background: #333;\n",
       "            color: #ddd;\n",
       "            padding: 2px;\n",
       "            border: 0px;\n",
       "            border-radius: 8px;\n",
       "        }\n",
       "\n",
       "    </style>\n"
      ],
      "text/plain": [
       "HTML{String}(\"    \\n<style>\\n\\n        #original {\\n            margin-left: 10%;\\n        }\\n\\n        .venntooltip{\\n            position:absolute;\\n            text-align: left;\\n            background: #333;\\n            color: #ddd;\\n            padding: 2px;\\n            border: 0px;\\n            border-radius: 8px;\\n        }\\n\\n    </style>\\n\")"
      ]
     },
     "execution_count": 4,
     "metadata": {},
     "output_type": "execute_result"
    }
   ],
   "source": [
    "#style\n",
    "HTML(\"\"\"\n",
    "    \n",
    "<style>\n",
    "\n",
    "        #original {\n",
    "            margin-left: 10%;\n",
    "        }\n",
    "\n",
    "        .venntooltip{\n",
    "            position:absolute;\n",
    "            text-align: left;\n",
    "            background: #333;\n",
    "            color: #ddd;\n",
    "            padding: 2px;\n",
    "            border: 0px;\n",
    "            border-radius: 8px;\n",
    "        }\n",
    "\n",
    "    </style>\n",
    "\"\"\")"
   ]
  },
  {
   "cell_type": "code",
   "execution_count": 7,
   "metadata": {},
   "outputs": [
    {
     "data": {
      "text/html": [
       "<div id=\"original\"></div>\n",
       "<script type=\"text/javascript\" src=\"scripts/vennHypergraph.js\"></script>\n",
       "<script type=\"text/javascript\" src=\"scripts/hg-venn-plot.js\"></script>\n",
       "<script>\n",
       "     hgVennPlot()\n",
       " </script>\n",
       "    \n"
      ],
      "text/plain": [
       "HTML{String}(\"<div id=\\\"original\\\"></div>\\n<script type=\\\"text/javascript\\\" src=\\\"scripts/vennHypergraph.js\\\"></script>\\n<script type=\\\"text/javascript\\\" src=\\\"scripts/hg-venn-plot.js\\\"></script>\\n<script>\\n     hgVennPlot()\\n </script>\\n    \\n\")"
      ]
     },
     "execution_count": 7,
     "metadata": {},
     "output_type": "execute_result"
    }
   ],
   "source": [
    "#funcion call\n",
    "HTML(\"\"\"\n",
    "<div id=\"original\"></div>\n",
    "<script type=\"text/javascript\" src=\"scripts/vennHypergraph.js\"></script>\n",
    "<script type=\"text/javascript\" src=\"scripts/hg-venn-plot.js\"></script>\n",
    "<script>\n",
    "     hgVennPlot()\n",
    " </script>\n",
    "    \n",
    "\"\"\")"
   ]
  },
  {
   "cell_type": "code",
   "execution_count": null,
   "metadata": {},
   "outputs": [],
   "source": []
  }
 ],
 "metadata": {
  "kernelspec": {
   "display_name": "Julia 1.1.0",
   "language": "julia",
   "name": "julia-1.1"
  },
  "language_info": {
   "file_extension": ".jl",
   "mimetype": "application/julia",
   "name": "julia",
   "version": "1.1.0"
  }
 },
 "nbformat": 4,
 "nbformat_minor": 2
}
